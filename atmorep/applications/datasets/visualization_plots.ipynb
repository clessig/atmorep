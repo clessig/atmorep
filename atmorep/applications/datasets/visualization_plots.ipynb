{
 "cells": [
  {
   "cell_type": "code",
   "execution_count": null,
   "id": "84def135-a24c-4588-85f8-682722c92737",
   "metadata": {},
   "outputs": [],
   "source": [
    "## atmorep_results "
   ]
  },
  {
   "cell_type": "code",
   "execution_count": null,
   "id": "dca71fd9-02ae-4bb9-915f-afb1d07f6715",
   "metadata": {},
   "outputs": [],
   "source": [
    "import zarr\n",
    "import os\n",
    "import xarray as xr\n",
    "import numpy as np"
   ]
  },
  {
   "cell_type": "code",
   "execution_count": null,
   "id": "78d0f361-e743-487a-be7d-fee5b4c96011",
   "metadata": {},
   "outputs": [],
   "source": [
    "model_id = \"idq6fyeanc\"#\"id2urb4mvu\"#\"idct1quho0\""
   ]
  },
  {
   "cell_type": "code",
   "execution_count": null,
   "id": "7427b5fc-23e4-4043-b548-cc7a01845fc3",
   "metadata": {},
   "outputs": [],
   "source": [
    "model_id_folder_path = f\"/p/project1/deepacf/atmo-rep/patnala1/atmorep/results/{model_id}\"\n",
    "ensemble_path = f\"results_{model_id}_epoch00000_ens.zarr\"\n",
    "pred_path = f\"results_{model_id}_epoch00000_pred.zarr\"\n",
    "source_path = f\"results_{model_id}_epoch00000_source.zarr\"\n",
    "target_path = f\"results_{model_id}_epoch00000_target.zarr\""
   ]
  },
  {
   "cell_type": "code",
   "execution_count": null,
   "id": "e80b32ea-4c52-4ca9-979a-37ecd3449d4f",
   "metadata": {},
   "outputs": [],
   "source": [
    "target_store = zarr.ZipStore(os.path.join(model_id_folder_path, target_path))\n",
    "target_group = zarr.group(store=target_store)"
   ]
  },
  {
   "cell_type": "code",
   "execution_count": null,
   "id": "72d37892-9617-4644-858e-78a822ac9841",
   "metadata": {},
   "outputs": [],
   "source": [
    "pred_store = zarr.ZipStore(os.path.join(model_id_folder_path,pred_path))\n",
    "pred_group = zarr.group(store=pred_store)"
   ]
  },
  {
   "cell_type": "code",
   "execution_count": null,
   "id": "2875f78f-fe06-41f3-ad5e-959e6b777aca",
   "metadata": {},
   "outputs": [],
   "source": [
    "field ='total_precip'\n",
    "sample = '00012'"
   ]
  },
  {
   "cell_type": "code",
   "execution_count": null,
   "id": "f44613f2-a047-4f83-9373-30c0be8a862f",
   "metadata": {},
   "outputs": [],
   "source": [
    "list(pred_group.group_keys())"
   ]
  },
  {
   "cell_type": "code",
   "execution_count": null,
   "id": "f8a52b21-9d62-435d-8047-d22ca0cca556",
   "metadata": {},
   "outputs": [],
   "source": [
    "list(target_group[field][f'sample={sample}'].keys())"
   ]
  },
  {
   "cell_type": "code",
   "execution_count": null,
   "id": "fe063971-18e1-4c85-b9e8-b95c11f9faa3",
   "metadata": {},
   "outputs": [],
   "source": [
    "target_data = target_group[field][f'sample={sample}']['data'][0][:]\n",
    "target_lats = target_group[field][f'sample={sample}']['lat'][:]\n",
    "target_lons = target_group[field][f'sample={sample}']['lon'][:]\n",
    "target_datetime = target_group[field][f'sample={sample}']['datetime'][:]"
   ]
  },
  {
   "cell_type": "code",
   "execution_count": null,
   "id": "2324bcd8-e903-4e9b-87a4-4afa54309288",
   "metadata": {},
   "outputs": [],
   "source": [
    "pred_data = pred_group[field][f'sample={sample}']['data'][0][:]\n",
    "pred_lats = pred_group[field][f'sample={sample}']['lat'][:]\n",
    "pred_lons = pred_group[field][f'sample={sample}']['lon'][:]\n",
    "pred_datetime = pred_group[field][f'sample={sample}']['datetime'][:]"
   ]
  },
  {
   "cell_type": "code",
   "execution_count": null,
   "id": "91917a29-2cf3-4948-b652-d2c2d8dbef25",
   "metadata": {},
   "outputs": [],
   "source": [
    "def math_to_geolats(lats_math):\n",
    "    \"\"\"\n",
    "    Convert 'mathematical' latitudes as used in AtmoRep to geographical latitudes.\n",
    "    Example conversions:\n",
    "        Mathematical latitude: 0° -> Geographical latitude: 90°N\n",
    "        Mathematical latitude: 180° -> Geographical latitude: -90°N/90°S\n",
    "    :param lats_math: 1D-array with mathematical latitudes\n",
    "    :return lats_geo: 1D-array with geographical latitudes\n",
    "    \"\"\"\n",
    "    lats_geo = np.where(lats_math > 90, -lats_math + 90, np.abs(lats_math - 90.))\n",
    "\n",
    "    return lats_geo\n",
    "\n",
    "def geo_to_mathlats(lats_geo):\n",
    "    \"\"\"\n",
    "    Convert geographical latitude to 'mathematical' latitudes as used in AtmoRep.\n",
    "    Example conversions:\n",
    "        Geographical latitude: 90°N ->  Mathematical latitude: 0°N\n",
    "        Geographical latitude: -90°N -> Mathematical latitude: 180°\n",
    "    :param lats_math: 1D-array with geographical latitudes\n",
    "    :return lats_geo: 1D-array with mathematical latitudes\n",
    "    \"\"\"\n",
    "    lats_math = np.where(lats_geo > 0, np.abs(lats_geo - 90), -lats_geo + 90.)\n",
    "    return lats_math\n",
    "\n",
    "def get_latlon_arr(lat_range, lon_range, res):\n",
    "    lats = np.arange(lat_range[0], lat_range[1] + res/10., res)\n",
    "    lons = np.arange(lon_range[0], lon_range[1] + res/10., res)\n",
    "\n",
    "    return lats, lons"
   ]
  },
  {
   "cell_type": "code",
   "execution_count": null,
   "id": "1524fda3-f2a8-45bf-a56f-349d74c3403e",
   "metadata": {},
   "outputs": [],
   "source": [
    "target_array = xr.DataArray( target_data, dims=[\"time\",\"lat\",\"lon\"],\n",
    "                            coords = {\"time\": target_datetime, \"lat\":math_to_geolats(target_lats), \"lon\":np.where(target_lons > 180.0, target_lons - 360.0, target_lons)})\n",
    "\n",
    "pred_array = xr.DataArray( pred_data, dims=[\"time\",\"lat\",\"lon\"],\n",
    "                            coords = {\"time\": pred_datetime, \"lat\":math_to_geolats(pred_lats), \"lon\":np.where(pred_lons > 180.0, pred_lons - 360.0, pred_lons)})\n"
   ]
  },
  {
   "cell_type": "code",
   "execution_count": null,
   "id": "6cb8e6ee-a012-456f-8c8c-cd789ddd8746",
   "metadata": {},
   "outputs": [],
   "source": [
    "import matplotlib.pyplot as plt"
   ]
  },
  {
   "cell_type": "code",
   "execution_count": null,
   "id": "74e9dbbf-0d88-4f4a-ab65-8297918054ef",
   "metadata": {},
   "outputs": [],
   "source": [
    "%matplotlib inline\n",
    "\n",
    "tidx = 4\n",
    "#val_range = {\"vmin\": 0, \"vmax\": 2.}\n"
   ]
  },
  {
   "cell_type": "code",
   "execution_count": null,
   "id": "83683bb8-1ffc-4a17-bd87-f18df8f3ee8e",
   "metadata": {},
   "outputs": [],
   "source": [
    "target_array.isel({\"time\": tidx}).plot()#**val_range)\n",
    "plt.show()"
   ]
  },
  {
   "cell_type": "code",
   "execution_count": null,
   "id": "bebdc7b8-dd79-496a-a7a9-ebf20e8d2e47",
   "metadata": {},
   "outputs": [],
   "source": [
    "pred_array.isel({\"time\": tidx}).plot()#**val_range)\n",
    "plt.show()"
   ]
  },
  {
   "cell_type": "code",
   "execution_count": null,
   "id": "b6cecc44-82cc-43d1-9b80-ab0aacab36f9",
   "metadata": {},
   "outputs": [],
   "source": [
    "np.mean(pred_data - target_data)"
   ]
  },
  {
   "cell_type": "code",
   "execution_count": null,
   "id": "8c227da4-0aa8-4cc8-9398-f966c897f8c2",
   "metadata": {},
   "outputs": [],
   "source": []
  }
 ],
 "metadata": {
  "kernelspec": {
   "display_name": "atmorep_cluster",
   "language": "python",
   "name": "atmorep_cluster"
  },
  "language_info": {
   "codemirror_mode": {
    "name": "ipython",
    "version": 3
   },
   "file_extension": ".py",
   "mimetype": "text/x-python",
   "name": "python",
   "nbconvert_exporter": "python",
   "pygments_lexer": "ipython3",
   "version": "3.11.3"
  }
 },
 "nbformat": 4,
 "nbformat_minor": 5
}
