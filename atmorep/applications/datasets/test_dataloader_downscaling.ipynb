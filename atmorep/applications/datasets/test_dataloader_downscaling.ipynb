{
 "cells": [
  {
   "cell_type": "code",
   "execution_count": 167,
   "id": "89ee3231-d5c2-457d-b8a0-9133da9f52f8",
   "metadata": {},
   "outputs": [],
   "source": [
    "# %load /p/home/jusers/langguth1/jureca/atmorep_github/atmorep/atmorep/applications/datasets/downscaling_data_loader.py\n",
    "####################################################################################################\n",
    "#\n",
    "#  Copyright (C) 2022\n",
    "#\n",
    "####################################################################################################\n",
    "#\n",
    "#  project     : atmorep\n",
    "#\n",
    "#  author      : atmorep collaboration\n",
    "# \n",
    "#  description :\n",
    "#\n",
    "#  license     :\n",
    "#\n",
    "####################################################################################################\n",
    "\n",
    "import torch\n",
    "import numpy as np\n",
    "import zarr\n",
    "import pandas as pd\n",
    "import xarray as xr\n",
    "from datetime import datetime\n",
    "import time\n",
    "import os, sys\n",
    "from pathlib import Path"
   ]
  },
  {
   "cell_type": "code",
   "execution_count": null,
   "id": "38583b52-c97e-4efe-9baf-e0e516360395",
   "metadata": {},
   "outputs": [],
   "source": [
    "sys.path.insert(0, \"/p/project/deepacf/atmo-rep/langguth1/atmo-rep/atmorep/\")\n",
    "from atmorep.datasets.normalizer import normalize\n",
    "from atmorep.utils.utils import tokenize, get_weights\n",
    "from atmorep.applications.downscaling.utils.era5_imerg_data_aligner import lat_lon_time_range\n",
    "from atmorep.utils.logger import logger"
   ]
  },
  {
   "cell_type": "code",
   "execution_count": 155,
   "id": "0e280158-6f72-4afb-9d6e-074822651985",
   "metadata": {},
   "outputs": [],
   "source": [
    "def math_to_geolats(lats_math):\n",
    "    \"\"\"\n",
    "    Convert 'mathematical' latitudes as used in AtmoRep to geographical latitudes.\n",
    "    Example conversions:\n",
    "        Mathematical latitude: 0° -> Geographical latitude: 90°N\n",
    "        Mathematical latitude: 180° -> Geographical latitude: -90°N/90°S\n",
    "    :param lats_math: 1D-array with mathematical latitudes\n",
    "    :return lats_geo: 1D-array with geographical latitudes\n",
    "    \"\"\"\n",
    "    lats_geo = np.where(lats_math > 90, -lats_math + 90, np.abs(lats_math - 90.))\n",
    "\n",
    "    return lats_geo\n",
    "\n",
    "def geo_to_mathlats(lats_geo):\n",
    "    \"\"\"\n",
    "    Convert geographical latitude to 'mathematical' latitudes as used in AtmoRep.\n",
    "    Example conversions:\n",
    "        Geographical latitude: 90°N ->  Mathematical latitude: 0°N\n",
    "        Geographical latitude: -90°N -> Mathematical latitude: 180°\n",
    "    :param lats_math: 1D-array with geographical latitudes\n",
    "    :return lats_geo: 1D-array with mathematical latitudes\n",
    "    \"\"\"\n",
    "    lats_math = np.where(lats_geo > 0, np.abs(lats_geo - 90), -lats_geo + 90.)\n",
    "    return lats_math\n",
    "\n",
    "def get_latlon_arr(lat_range, lon_range, res):\n",
    "    lats = np.arange(lat_range[0], lat_range[1] + res/10., res)\n",
    "    lons = np.arange(lon_range[0], lon_range[1] + res/10., res)\n",
    "\n",
    "    return lats, lons"
   ]
  },
  {
   "cell_type": "code",
   "execution_count": 3,
   "id": "594b3a15-ec2a-4fd5-a94c-c3192f2cbc46",
   "metadata": {},
   "outputs": [],
   "source": [
    "class MultifieldDownscalingSampler( torch.utils.data.IterableDataset):\n",
    "    \n",
    "    def __init__(self, input_file_path, target_file_path, input_fields,\n",
    "        target_fields, years, batch_size, n_size, num_samples, downscaling_ratio,\n",
    "        with_shuffle=False, with_source_idxs = False, with_target_idxs=False) :\n",
    "            super(MultifieldDownscalingSampler, self).__init__()\n",
    "\n",
    "            self.input_fields = input_fields\n",
    "            self.target_fields = target_fields\n",
    "            self.n_size = n_size\n",
    "            self.num_samples = num_samples\n",
    "            self.with_source_idxs = with_source_idxs\n",
    "            self.with_target_idxs = with_target_idxs\n",
    "            self.batch_size = batch_size\n",
    "            self.with_shuffle = with_shuffle\n",
    "            self.downscaling_ratio = downscaling_ratio\n",
    "      \n",
    "            assert os.path.exists(input_file_path), f\"Input file path {input_file_path} does not exist\"\n",
    "            assert os.path.exists(target_file_path), f\"Target file path {target_file_path} does not exist\"\n",
    "\n",
    "            self.era5_ds = zarr.group(input_file_path)\n",
    "            self.imerg_ds = zarr.group(target_file_path)\n",
    "\n",
    "            self.era5_res = self.era5_ds.attrs['res']\n",
    "            self.imerg_res = self.imerg_ds.attrs['res']\n",
    "\n",
    "            self.era5_lats = np.array(self.era5_ds['lats'])\n",
    "            self.era5_lons = np.array(self.era5_ds['lons'])\n",
    "\n",
    "            self.imerg_lats = np.array(self.imerg_ds['lats'])\n",
    "            self.imerg_lons = np.array(self.imerg_ds['lons'])\n",
    "\n",
    "            self.era5_num_lats = self.era5_ds['lats'].shape[0]\n",
    "            self.era5_num_lons = self.era5_ds['lons'].shape[0]\n",
    "            \n",
    "            self.range_lat = np.array([0,-1])\n",
    "            self.range_lon = np.array([0,-1])\n",
    "            self.range_time = np.array([0,-1])\n",
    "\n",
    "            if self.era5_ds.attrs['is_global']:\n",
    "\n",
    "                self.global_indices_range = lat_lon_time_range(\n",
    "                    input_file_path,\n",
    "                    target_file_path\n",
    "                )\n",
    "                \n",
    "                lat_range = self.global_indices_range['lats']\n",
    "                lon_range = self.global_indices_range['lons']\n",
    "                time_range = self.global_indices_range['time']\n",
    "\n",
    "                self.range_lat = np.array([lat_range[0], lat_range[1]])\n",
    "                self.range_lon = np.array([lon_range[0], lon_range[1]])\n",
    "\n",
    "                self.range_time = np.array([\n",
    "                    time_range[0],\n",
    "                    time_range[1]])\n",
    "            \n",
    "            self.year_base = self.era5_ds['time'][self.range_time[0]].astype(datetime).year\n",
    "\n",
    "            self.input_normalizers = []\n",
    "\n",
    "            for ifield, field_info in enumerate(input_fields):\n",
    "                corr_type = 'global' if len(field_info) <=6 else field_info[6]\n",
    "                nf_name = 'global_norm' if corr_type == 'global' else 'norm'\n",
    "                self.input_normalizers.append([])\n",
    "                for vl in field_info[2]: \n",
    "                    if vl == 0:\n",
    "                        field_idx = self.era5_ds.attrs['fields_sfc'].index( field_info[0])\n",
    "                        n_name = f'normalization/{nf_name}_sfc'\n",
    "                        self.input_normalizers[ifield] += [self.era5_ds[n_name].oindex[ :, :, field_idx]] \n",
    "                    else:\n",
    "                        vl_idx = self.era5_ds.attrs['levels'].index(vl)\n",
    "                        field_idx = self.era5_ds.attrs['fields'].index( field_info[0])\n",
    "                        n_name = f'normalization/{nf_name}'\n",
    "                        self.input_normalizers[ifield] += [self.era5_ds[n_name].oindex[ :, :, field_idx, vl_idx] ]\n",
    "\n",
    "\n",
    "            self.target_normalizers = []\n",
    "\n",
    "            for ifield, field_info in enumerate(target_fields):\n",
    "                corr_type = 'global' if len(field_info) <=6 else field_info[6]\n",
    "                nf_name = 'global_norm' if corr_type == 'global' else 'norm'\n",
    "                self.target_normalizers.append([])\n",
    "                for vl in field_info[2]: \n",
    "                    if vl == 0:\n",
    "                        field_idx = self.imerg_ds.attrs['fields_sfc'].index( field_info[0])\n",
    "                        n_name = f'normalization/{nf_name}_sfc'\n",
    "                        self.target_normalizers[ifield] += [self.imerg_ds[n_name].oindex[ :, :, field_idx]] \n",
    "                    else:\n",
    "                        vl_idx = self.target_ds.attrs['levels'].index(vl)\n",
    "                        field_idx = self.imerg_ds.attrs['fields'].index( field_info[0])\n",
    "                        n_name = f'normalization/{nf_name}'\n",
    "                        self.target_normalizers[ifield] += [self.imerg_ds[n_name].oindex[ :, :, field_idx, vl_idx] ]\n",
    "\n",
    "\n",
    "            years_input_file = np.asarray(\n",
    "                pd.DataFrame(\n",
    "                    {'time' : pd.to_datetime(self.era5_ds['time'][self.range_time[0]:self.range_time[1]])})['time'].dt.strftime(\"%Y\"))\n",
    "\n",
    "            logical_array = np.where(years_input_file == str(years[0]), True, False)\n",
    "\n",
    "            if len(years) > 1:\n",
    "                for year in range(years[0],years[1])[1:] :\n",
    "                    logical_array = np.logical_or(logical_array,\n",
    "                         np.where(years_input_file == str(year), True, False))\n",
    "        \n",
    "            self.valid_time_indices = np.where(logical_array)[0]\n",
    "\n",
    "            self.num_samples = min( self.num_samples, self.valid_time_indices.shape[0] - n_size[0])\n",
    "            \n",
    "\n",
    "    def shuffle(self):\n",
    "\n",
    "        worker_info = torch.utils.data.get_worker_info()\n",
    "        rng_seed = None\n",
    "\n",
    "        if worker_info is not None:\n",
    "            rng_seed = int(time.time()) // (worker_info.id+1) + worker_info.id\n",
    "\n",
    "        rng = np.random.default_rng( rng_seed)\n",
    "        self.idx_perm_era5_t = rng.permutation( \n",
    "            self.valid_time_indices[self.n_size[0]:])[: self.num_samples // self.batch_size]\n",
    "\n",
    "        self.idx_perm_imerg_t = np.arange(self.range_time[1]-self.range_time[0])[self.idx_perm_era5_t]\n",
    "\n",
    "        era5_lats = np.arange(self.range_lat[0],self.range_lat[1]-self.n_size[1])\n",
    "        \n",
    "        if self.range_lon[1] > self.range_lon[0]:\n",
    "            era5_lons = np.arange(self.range_lon[0], self.range_lon[1]-self.n_size[2])\n",
    "        else:\n",
    "            era5_lons = np.arange(self.range_lon[0], self.range_lon[1]+self.era5_num_lons-self.n_size[2])\n",
    "\n",
    "        imerg_lats_based_on_era5 = np.random.choice( np.arange(0, self.range_lat[1]-self.n_size[1]-self.range_lat[0]), size=(self.num_samples,), replace=False)\n",
    "        \n",
    "        if self.range_lon[1] < self.range_lon[0]:\n",
    "            imerg_lons_based_on_era5 = np.random.choice( np.arange(0, self.range_lon[1]+self.era5_num_lons-self.n_size[2]-self.range_lon[0]), size=(self.num_samples,),replace=False)\n",
    "        else:\n",
    "            imerg_lons_based_on_era5 = np.random.choice( np.arange(0, self.range_lon[1]-self.n_size[2]-self.range_lon[0]), size=(self.num_samples,),replace=False)\n",
    "\n",
    "        era5_selected_lats = era5_lats[imerg_lats_based_on_era5]\n",
    "        era5_selected_lons = era5_lons[imerg_lons_based_on_era5]\n",
    "\n",
    "        self.idxs_perm_era5 = np.stack( [era5_selected_lats,era5_selected_lons], axis=1)\n",
    "        self.idxs_perm_imerg = np.stack( [imerg_lats_based_on_era5, imerg_lons_based_on_era5], axis=1)\n",
    "\n",
    "    def __iter__(self):\n",
    "        \n",
    "        if self.with_shuffle:\n",
    "            self.shuffle()\n",
    "        \n",
    "        lats, lons = self.era5_lats, self.era5_lons\n",
    "        n_size = self.n_size\n",
    "        res = self.era5_res\n",
    "\n",
    "        iter_start , iter_end = self.worker_workset()\n",
    "\n",
    "        for bidx in range( iter_start, iter_end):\n",
    "\n",
    "            sources, token_infos = [[] for _ in self.input_fields], [[] for _ in self.input_fields]\n",
    "            targets, target_token_infos = [[] for _ in self.target_fields], [[] for _ in self.target_fields],\n",
    "            sources_infos, source_idxs = [], []\n",
    "            target_infos, target_idxs = [], []\n",
    "\n",
    "            i_bidx = self.idx_perm_era5_t[bidx]\n",
    "            i_bidx_imerg = self.idx_perm_imerg_t[bidx]\n",
    "\n",
    "            idxs_t_era5 = [i_bidx - n_size[0], i_bidx]\n",
    "            idxs_t_imerg = [i_bidx_imerg - n_size[0], i_bidx_imerg]\n",
    "\n",
    "            data_t = self.era5_ds['time'][idxs_t_era5[0]:idxs_t_era5[1]].astype(datetime)\n",
    "\n",
    "            data_era5_tt_sfc = self.era5_ds['data_sfc'][idxs_t_era5[0]:idxs_t_era5[1]]\n",
    "            data_era5_tt = self.era5_ds['data'][idxs_t_era5[0]:idxs_t_era5[1]]\n",
    "\n",
    "            data_imerg_tt_sfc = self.imerg_ds['data_sfc'][idxs_t_imerg[0]:idxs_t_imerg[1]]\n",
    "\n",
    "            for sidx in range(self.batch_size):\n",
    "\n",
    "                idx_era5 = self.idxs_perm_era5[bidx*self.batch_size+sidx]\n",
    "\n",
    "                idx_lat_era5 = [idx_era5[0], idx_era5[0] + n_size[1]]\n",
    "                idx_lon_era5 = [idx_era5[1], idx_era5[1] + n_size[2]]\n",
    "\n",
    "                lon_list = None\n",
    "\n",
    "                if idx_lon_era5[0] > self.era5_num_lons - n_size[2] and idx_lon_era5[0] < self.era5_num_lons:\n",
    "                    lon_list = np.arange(idx_lon_era5[0], self.era5_num_lons)\n",
    "                    lon_list = np.concatenate((lon_list,np.arange(0,idx_lon_era5[1]%self.era5_num_lons)))\n",
    "\n",
    "                if idx_lon_era5[0] >= self.era5_num_lons:\n",
    "                    idx_lon_era5[0] = idx_lon_era5[0]%self.era5_num_lons\n",
    "                    idx_lon_era5[1] = idx_lon_era5[1]%self.era5_num_lons\n",
    "            \n",
    "                sources_infos += [ [ self.era5_ds['time'][idxs_t_era5[0]:idxs_t_era5[1]].astype(datetime),\n",
    "                                     self.era5_ds['lats'][idx_lat_era5[0]:idx_lat_era5[1]],\n",
    "                                     self.era5_ds['lons'][np.arange(idx_lon_era5[0],idx_lon_era5[1]) if lon_list is None else lon_list],\n",
    "                                     self.era5_res ] ]\n",
    "                \n",
    "                if self.with_source_idxs :\n",
    "                    source_idxs += [ (np.arange(idxs_t_era5[0],idxs_t_era5[1]),\n",
    "                                      np.arange(idx_lat_era5[0],idx_lat_era5[1]),\n",
    "                                      np.arange(idx_lon_era5[0],idx_lon_era5[1]) if lon_list is None else np.array(lon_list) ) ]\n",
    "                \n",
    "\n",
    "                idx_imerg = self.idxs_perm_imerg[bidx*self.batch_size+sidx]\n",
    "\n",
    "                idx_lat_imerg = [idx_imerg[0]*self.downscaling_ratio, (idx_imerg[0] + n_size[1])*self.downscaling_ratio]\n",
    "                idx_lon_imerg = [idx_imerg[1]*self.downscaling_ratio, (idx_imerg[1] + n_size[2])*self.downscaling_ratio]\n",
    "                target_infos += [ [ self.imerg_ds['time'][idxs_t_imerg[0]:idxs_t_imerg[1]].astype(datetime),\n",
    "                                    self.imerg_ds['lats'][idx_lat_imerg[0]:idx_lat_imerg[1]],\n",
    "                                    self.imerg_ds['lons'][idx_lon_imerg[0]:idx_lon_imerg[1]],\n",
    "                                    self.imerg_res ] ]\n",
    "\n",
    "                if self.with_target_idxs :\n",
    "                    target_idxs += [ (np.arange(idxs_t_imerg[0],idxs_t_imerg[1]),\n",
    "                                      np.arange(idx_lat_imerg[0],idx_lat_imerg[1]),\n",
    "                                      np.arange(idx_lon_imerg[0],idx_lon_imerg[1]) ) ]\n",
    "                                      \n",
    "\n",
    "                for ifield, field_info in enumerate(self.input_fields):\n",
    "                    source_lvl, tok_info_lvl = [], []\n",
    "                    tok_size = field_info[4]\n",
    "                    num_tokens = field_info[3]\n",
    "\n",
    "                    corr_type = 'global' if len(field_info) <=6 else field_info[6]\n",
    "\n",
    "                    for ilevel, vl in enumerate(field_info[2]):\n",
    "                        if vl == 0:\n",
    "                            field_idx = self.era5_ds.attrs['fields_sfc'].index( field_info[0])\n",
    "                            data_t = data_era5_tt_sfc[:,field_idx]\n",
    "                        else:\n",
    "                            field_idx = self.era5_ds.attrs['fields'].index( field_info[0])\n",
    "                            vl_idx = self.era5_ds.attrs['levels'].index( vl)\n",
    "                            data_t = data_era5_tt[:,field_idx, vl_idx]\n",
    "                        \n",
    "                        source_data, tok_info = [], []\n",
    "                        \n",
    "                        cdata = data_t[ :, \n",
    "                                 idx_lat_era5[0]:idx_lat_era5[1], \n",
    "                                 list(np.arange(idx_lon_era5[0],idx_lon_era5[1])) if lon_list is None else lon_list] \n",
    "\n",
    "                        \n",
    "                        normalizer = self.input_normalizers[ifield][ilevel]\n",
    "                        \n",
    "                        if corr_type != 'global':\n",
    "                            normalizer = normalizer[ : , : , \n",
    "                                   idx_lat_era5[0]:idx_lat_era5[1] ,\n",
    "                                   list(np.arange(idx_lon_era5[0],idx_lon_era5[1])) if lon_list is None else lon_list]\n",
    "                        \n",
    "                        # removed normalize and tokenize for test purpose\n",
    "                        #cdata = normalize(cdata, normalizer, sources_infos[-1][0], year_base = self.year_base)\n",
    "                        \n",
    "                        #source_data = tokenize( torch.from_numpy( cdata), tok_size)\n",
    "                        \n",
    "                        source_data = cdata #need to remove this line once the test is done\n",
    "\n",
    "                        dates = self.era5_ds['time'][ idxs_t_era5[0]:idxs_t_era5[1]].astype(datetime)\n",
    "                        cdates = dates[tok_size[0]-1::tok_size[0]]\n",
    "\n",
    "                        dates = [(d.year, d.timetuple().tm_yday-1, d.hour) for d in cdates]\n",
    "                        lats_sidx = self.era5_ds['lats'][idx_lat_era5[0]: idx_lat_era5[1]][tok_size[1]//2 :: tok_size[1] ]\n",
    "                        if lon_list is None:\n",
    "                            lons_sidx = self.era5_ds['lons'][idx_lon_era5[0]: idx_lon_era5[1]][tok_size[2]//2 :: tok_size[2] ]\n",
    "                        else:\n",
    "                            lons_sidx = self.era5_ds['lons'][lon_list][tok_size[2]//2 :: tok_size[2]]\n",
    "\n",
    "                        tok_info += [[[[[ year, day, hour, vl, lat, lon, vl, self.era5_res[0]] for lon in lons_sidx]\n",
    "                                                                              for lat in lats_sidx]\n",
    "                                                                  for (year, day, hour) in dates]]                                                       \n",
    "                        source_lvl += [ torch.tensor(source_data) ]\n",
    "                        \n",
    "                        tok_info_lvl += [torch.tensor( tok_info, dtype=torch.float32).flatten( 1,-2)]\n",
    "\n",
    "                    sources[ifield] += [ torch.stack(source_lvl, 0) ]\n",
    "                    token_infos[ifield] += [ torch.stack(tok_info_lvl, 0)]\n",
    "                \n",
    "                for ifield, field_info in enumerate(self.target_fields):\n",
    "                    #target_lvl, target_tok_info_lvl = [], []\n",
    "                    target_lvl = []\n",
    "                    target_tok_size = field_info[4]\n",
    "                    target_num_tokens = field_info[3]\n",
    "\n",
    "                    for ilevel, vl in enumerate(field_info[2]):\n",
    "                        if vl == 0:\n",
    "                            field_idx = self.imerg_ds.attrs['fields_sfc'].index( field_info[0])\n",
    "                            data_t_imerg = data_imerg_tt_sfc[:,field_idx]\n",
    "                        else:\n",
    "                            field_idx = self.imerg_ds.attrs['fields'].index( field_info[0])\n",
    "                            vl_idx = self.imerg_ds.attrs['levels'].index( vl)\n",
    "                            data_t_imerg = data_imerg_tt[:,field_idx, vl_idx]\n",
    "\n",
    "                        target_data, target_tok_info = [], []\n",
    "\n",
    "                        cdata_imerg = data_t_imerg[ :, \n",
    "                                        idx_lat_imerg[0]:idx_lat_imerg[1],\n",
    "                                        idx_lon_imerg[0]:idx_lon_imerg[1] ]\n",
    "                        \n",
    "                        normalizer = self.target_normalizers[ifield][ilevel]\n",
    "                        \n",
    "                        if corr_type != 'global':\n",
    "                            normalizer = normalizer[ : , : , \n",
    "                                   idx_lat_era5[0]:idx_lat_era5[1] ,\n",
    "                                   idx_lon_era5[0]:idx_lon_era5[1]]\n",
    "\n",
    "                        #uncomment these lines after testing\n",
    "                        #cdata_imerg = normalize(cdata_imerg, normalizer, target_infos[-1][0], year_base = self.year_base)\n",
    "                        \n",
    "                        #target_data = tokenize( torch.from_numpy( cdata_imerg), target_tok_size)\n",
    "\n",
    "                        target_data = cdata_imerg #remove this line once testing is done\n",
    "\n",
    "                        ##need to fill based on how the positional encoding needs to be done for output_latent_arrays\n",
    "                        target_lvl += [ torch.tensor(target_data) ]\n",
    "                        #target_tok_info_lvl += [np.array([0])]\n",
    "\n",
    "                    targets[ifield] += [torch.stack(target_lvl, 0)]\n",
    "                    #target_token_infos[ifield] += [ torch.stack(target_tok_info_lvl, 0)]\n",
    "\n",
    "            sources = [torch.stack(sources_field) for sources_field in sources]\n",
    "            token_infos = [torch.stack(tis_field) for tis_field in token_infos]\n",
    "\n",
    "            targets = [torch.stack(targets_field) for targets_field in targets]\n",
    "            #target_token_infos = [torch.stack(target_tis_field).transpose(1,0) for target_tis_field in target_token_infos]\n",
    "            \n",
    "            yield ((sources, token_infos), (source_idxs, sources_infos), targets)          # (targets, target_token_infos))\n",
    "  \n",
    "    def __len__(self):\n",
    "        return self.num_samples // self.batch_size\n",
    "\n",
    "\n",
    "    def worker_workset( self) :\n",
    "\n",
    "        worker_info = torch.utils.data.get_worker_info()\n",
    "\n",
    "        if worker_info is None: \n",
    "            iter_start = 0\n",
    "            iter_end = self.num_samples\n",
    "    \n",
    "        else:  \n",
    "            # split workload\n",
    "            per_worker = len(self) // worker_info.num_workers\n",
    "            worker_id = worker_info.id\n",
    "            iter_start = int(worker_id * per_worker)\n",
    "            iter_end = int(iter_start + per_worker)\n",
    "            if worker_info.id+1 == worker_info.num_workers :\n",
    "                iter_end = len(self)\n",
    "\n",
    "        return iter_start, iter_end"
   ]
  },
  {
   "cell_type": "code",
   "execution_count": null,
   "id": "7c648025-e363-4596-af70-469e8387c422",
   "metadata": {},
   "outputs": [],
   "source": []
  },
  {
   "cell_type": "code",
   "execution_count": 93,
   "id": "03d446cc-7e0b-47d1-ade2-38ad1b935b58",
   "metadata": {},
   "outputs": [],
   "source": [
    "from atmorep.utils.utils import Config\n",
    "\n",
    "cf = Config()\n",
    "\n",
    "#cf.model_id = \"3kdutwqb\" \n",
    "cf.fields = [[\"velocity_u\", [1, 2048, [\"velocity_v\", \"temperature\", \"specific_humidity\", \"velocity_z\"], 0, [\"3k6e6p7o\", 141]], [96, 105, 114, 123, 137], [12, 6, 12], [3, 9, 9], [0.7, 0.9, 0.2, 0.05], \"local\"], \n",
    "             [\"velocity_v\", [1, 2048, [\"velocity_u\", \"temperature\", \"specific_humidity\", \"velocity_z\"], 1, [\"brxmevmt\", 141]], [96, 105, 114, 123, 137], [12, 6, 12], [3, 9, 9], [0.7, 0.9, 0.2, 0.05], \"local\"], \n",
    "             [\"specific_humidity\", [1, 2048, [\"velocity_u\", \"velocity_v\", \"velocity_z\", \"temperature\", \"total_precip\"], 2, [\"ctxc97nr\", 128]], [96, 105, 114, 123, 137], [12, 6, 12], [3, 9, 9], [0.85, 0.9, 0.2, 0.05], \"local\"], \n",
    "             [\"velocity_z\", [1, 1024, [\"velocity_u\", \"velocity_v\", \"temperature\"], 0, [\"15oisw8d\", 273]], [96, 105, 114, 123, 137], [12, 6, 12], [3, 9, 9], [0.65, 0.9, 0.2, 0.05], \"global\"],\n",
    "             [\"temperature\", [1, 1536, [\"velocity_u\", \"velocity_v\", \"velocity_z\", \"specific_humidity\"], 3, [\"3qou60es\", 327]], [96, 105, 114, 123, 137], [12, 2, 4], [3, 27, 27], [0.85, 0.9, 0.2, 0.05], \"local\"],\n",
    "             [\"total_precip\", [1, 1536, [\"velocity_u\", \"velocity_v\", \"velocity_z\", \"specific_humidity\"], 3, [\"3kdutwqb\", 900]], [0], [12, 6, 12], [3, 9, 9], [0.5, 0.9, 0.1, 0.05]]]\n",
    "cf.input_fields = cf.fields\n",
    "\n",
    "cf.downscaling_ratio = 3\n",
    "cf.fields_downscaling = [ ['total_precip', \n",
    "                        [1,1536,[\"velocity_u\",\"velocity_v\",\"specific_humidity\"]],\n",
    "                        [0],\n",
    "                        [12,6,12],\n",
    "                        [3,9*cf.downscaling_ratio,9*cf.downscaling_ratio], \n",
    "                        1.0 ] ]\n",
    "cf.target_fields = cf.fields_downscaling\n",
    "cf.input_file_path = \"/p/scratch/atmo-rep/data/era5_1deg/months/era5_y1979_2021_res025_chunk8.zarr\"\n",
    "cf.target_file_path = \"/p/scratch/atmo-rep/data/imerg/imerg_regridded/imerg_regrid_y2003_2021_res083_chunk8.zarr\"\n",
    "cf.years_train = [2003,2020]\n",
    "cf.years_val = [2021]  #[2018] \n",
    "cf.month = None\n",
    "cf.batch_size = 8\n",
    "cf.num_samples_per_epoch = 10\n",
    "cf.n_size = [36, 9*6, 9*12]"
   ]
  },
  {
   "cell_type": "code",
   "execution_count": 94,
   "id": "9a5339b5-1a2b-4475-8342-706efab52bf7",
   "metadata": {},
   "outputs": [
    {
     "data": {
      "text/plain": [
       "3"
      ]
     },
     "execution_count": 94,
     "metadata": {},
     "output_type": "execute_result"
    }
   ],
   "source": [
    "cf.downscaling_ratio"
   ]
  },
  {
   "cell_type": "code",
   "execution_count": 95,
   "id": "634f9ebc-d34a-4a5a-a675-a0d15100bde7",
   "metadata": {},
   "outputs": [],
   "source": [
    "downscaling_dataset = MultifieldDownscalingSampler(\n",
    "                    cf.input_file_path,\n",
    "                    cf.target_file_path,\n",
    "                    cf.fields,\n",
    "                    cf.target_fields,\n",
    "                    cf.years_train,\n",
    "                    cf.batch_size,\n",
    "                    cf.n_size,\n",
    "                    cf.num_samples_per_epoch,\n",
    "                    cf.downscaling_ratio,\n",
    "                    with_shuffle=True\n",
    "        )"
   ]
  },
  {
   "cell_type": "code",
   "execution_count": 98,
   "id": "2f435dc3-7f98-406d-9824-ed5a8bd5a482",
   "metadata": {},
   "outputs": [],
   "source": [
    "iter_ds = iter(downscaling_dataset)"
   ]
  },
  {
   "cell_type": "code",
   "execution_count": 99,
   "id": "9f6c4357-9a9a-4cf5-8281-c9cca749ed5d",
   "metadata": {},
   "outputs": [],
   "source": [
    "(sources, token_infos), (source_idxs, sources_infos), targets = next(iter_ds)"
   ]
  },
  {
   "cell_type": "code",
   "execution_count": 150,
   "id": "655753c9-6adc-450a-b8a7-c3fdb4f6bd0e",
   "metadata": {},
   "outputs": [
    {
     "data": {
      "text/plain": [
       "8"
      ]
     },
     "execution_count": 150,
     "metadata": {},
     "output_type": "execute_result"
    }
   ],
   "source": [
    "downscaling_dataset.batch_size\n"
   ]
  },
  {
   "cell_type": "code",
   "execution_count": 157,
   "id": "4f380c0a-e75f-48b1-a081-03b318569f01",
   "metadata": {},
   "outputs": [],
   "source": [
    "isample = -1\n",
    "\n",
    "imerg_sample = (targets[0].numpy())[isample, 0, ...]\n",
    "era5_sample = (sources[-1].numpy())[isample, 0, ...]"
   ]
  },
  {
   "cell_type": "code",
   "execution_count": 160,
   "id": "54e1fb23-13bd-4eb1-8855-00c7883b7b6e",
   "metadata": {},
   "outputs": [],
   "source": [
    "year, day, hour = tuple(token_infos[-1].numpy()[isample, 0, 0, 0][0:3])\n",
    "\n",
    "date_start = pd.to_datetime(year * 1000 + day, format='%Y%j')\n",
    "date_start = date_start + pd.to_timedelta(hour, unit='h') - pd.to_timedelta(1, unit='h')\n",
    "all_dates = pd.date_range(date_start, periods=36, freq=\"1h\")\n",
    "\n",
    "# sanity check\n",
    "year, day, hour = tuple(token_infos[-1].numpy()[isample,0,0,-1][0:3])\n",
    "\n",
    "date_end = pd.to_datetime(year * 1000 + day, format='%Y%j')\n",
    "date_end = date_end + pd.to_timedelta(hour, unit='h') + pd.to_timedelta(1, unit='h')\n",
    "\n",
    "assert all_dates[-1] == date_end, \"Inconsistent date information retrieved from token info\""
   ]
  },
  {
   "cell_type": "code",
   "execution_count": 161,
   "id": "d6c27104-6c9e-4fce-90f4-695135d32d54",
   "metadata": {},
   "outputs": [],
   "source": [
    "lat_min, lat_max = token_infos[-1].numpy()[0, 0, 0, 0][[4]], token_infos[-1].numpy()[0, 0, 0, -1][[4]]\n",
    "lon_min, lon_max = token_infos[-1].numpy()[0, 0, 0, 0][[5]], token_infos[-1].numpy()[0, 0, 0, -1][[5]]\n",
    "\n",
    "if lon_min > lon_max:\n",
    "    lon_min -= 360.\n",
    "\n",
    "lat_range_era5 = [lat_min[0] - 4*0.25, lat_max[0] + 4*.25]\n",
    "lon_range_era5 = [lon_min[0] - 4*0.25, lon_max[0] + 4*.25]\n",
    "\n",
    "lat_range_imerg = [lat_range_era5[0] - 0.25/3, lat_range_era5[1] + 0.25/3]\n",
    "lon_range_imerg = [lon_range_era5[0] - 0.25/3, lon_range_era5[1] + 0.25/3]"
   ]
  },
  {
   "cell_type": "code",
   "execution_count": 162,
   "id": "2f6c403f-1e73-4667-b4f1-37d1ae5f6d9b",
   "metadata": {},
   "outputs": [],
   "source": [
    "lats_era5, lons_era5 = get_latlon_arr(lat_range_era5, lon_range_era5, .25)\n",
    "lats_imerg, lons_imerg = get_latlon_arr(lat_range_imerg, lon_range_imerg, .25/3)"
   ]
  },
  {
   "cell_type": "code",
   "execution_count": 163,
   "id": "d7b10ae7-6d8e-4e63-851c-8a23e207e905",
   "metadata": {},
   "outputs": [],
   "source": [
    "precip_era5 = xr.DataArray(era5_sample*1000., dims=[\"time\", \"lat\", \"lon\"], \n",
    "                           coords={\"time\": all_dates, \"lat\": math_to_geolats(lats_era5), \"lon\": lons_era5})\n",
    "\n",
    "precip_imerg = xr.DataArray(imerg_sample, dims=[\"time\", \"lat\", \"lon\"], \n",
    "                           coords={\"time\": all_dates, \"lat\": math_to_geolats(lats_imerg), \"lon\": lons_imerg})"
   ]
  },
  {
   "cell_type": "code",
   "execution_count": 164,
   "id": "7c566f4c-d24a-45f4-b10b-257a5fd457ca",
   "metadata": {},
   "outputs": [
    {
     "data": {
      "text/plain": [
       "<matplotlib.collections.QuadMesh at 0x14fcba470150>"
      ]
     },
     "execution_count": 164,
     "metadata": {},
     "output_type": "execute_result"
    },
    {
     "data": {
      "image/png": "[encoded data removed]",
      "text/plain": [
       "<Figure size 640x480 with 2 Axes>"
      ]
     },
     "metadata": {},
     "output_type": "display_data"
    }
   ],
   "source": [
    "%matplotlib inline\n",
    "\n",
    "# parameters for plotting\n",
    "tidx = 14\n",
    "val_range = {\"vmin\": 0, \"vmax\": 2.}\n",
    "\n",
    "precip_imerg.isel({\"time\": tidx}).plot(**val_range)"
   ]
  },
  {
   "cell_type": "code",
   "execution_count": 165,
   "id": "eaff5f36-e35a-434b-acac-343c6b5d5f90",
   "metadata": {},
   "outputs": [
    {
     "data": {
      "text/plain": [
       "<matplotlib.collections.QuadMesh at 0x14fcba3aca10>"
      ]
     },
     "execution_count": 165,
     "metadata": {},
     "output_type": "execute_result"
    },
    {
     "data": {
      "image/png": "[encoded data removed]",
      "text/plain": [
       "<Figure size 640x480 with 2 Axes>"
      ]
     },
     "metadata": {},
     "output_type": "display_data"
    }
   ],
   "source": [
    "precip_era5.isel({\"time\": tidx}).plot(**val_range)"
   ]
  },
  {
   "cell_type": "markdown",
   "id": "c32ae250-d0a8-41cb-8412-aa5d81e5e49e",
   "metadata": {},
   "source": [
    "# From Ankit's checkpointed files"
   ]
  },
  {
   "cell_type": "code",
   "execution_count": null,
   "id": "628414eb-ecfc-4939-abd9-3844f6c899b7",
   "metadata": {},
   "outputs": [],
   "source": [
    "from pathlib import Path\n",
    "import xarray as xr\n",
    "import matplotlib.pyplot as plt\n",
    "\n",
    "datadir = Path(\"/p/project1/deepacf/atmo-rep/patnala1/nc_files_new\")\n",
    "ds_imerg = xr.open_dataset(datadir.joinpath(\"imerg_25722_44_78.nc\"))\n",
    "ds_era5 = xr.open_dataset(datadir.joinpath(\"era_5_25722_109_2.nc\"))\n",
    "\n",
    "precip_era5 = ds_era5[\"total_precip\"]\n",
    "precip_imerg = ds_imerg[\"total_precip\"]]"
   ]
  },
  {
   "cell_type": "code",
   "execution_count": null,
   "id": "fc49077a-9c8f-4fa0-a6c8-96ff6472ce52",
   "metadata": {},
   "outputs": [],
   "source": [
    "%matplotlib inline"
   ]
  },
  {
   "cell_type": "code",
   "execution_count": null,
   "id": "56be6237-529d-4bce-8708-5e56dc7f2038",
   "metadata": {},
   "outputs": [],
   "source": [
    "tidx = 0\n",
    "\n",
    "ds_imerg[\"total_precip\"].isel({\"time\": tidx}).plot(vmin=0., vmax=2.)\n",
    "\n",
    "plt.show()"
   ]
  },
  {
   "cell_type": "code",
   "execution_count": null,
   "id": "9c666866-2627-460a-a729-50f6acc46289",
   "metadata": {},
   "outputs": [],
   "source": [
    "ds_era5[\"lons\"] = ds_era5[\"lons\"].where(ds_era5[\"lons\"] < 180., ds_era5[\"lons\"] - 360.)"
   ]
  },
  {
   "cell_type": "code",
   "execution_count": null,
   "id": "27c0fc22-80b0-475f-841f-105fa3bf9f17",
   "metadata": {},
   "outputs": [],
   "source": [
    "ds_era5[\"total_precip\"].isel({\"time\": tidx}).plot(vmin=0., vmax=2.)"
   ]
  },
  {
   "cell_type": "markdown",
   "id": "95676011-8fc5-4452-82a2-04e1f1c55e95",
   "metadata": {},
   "source": [
    "# Plot data from raw datafiles "
   ]
  },
  {
   "cell_type": "code",
   "execution_count": 168,
   "id": "615d2579-05e7-47db-b52b-0dd42fa5f8a3",
   "metadata": {},
   "outputs": [],
   "source": [
    "datadir_imerg_raw = Path(\"/p/scratch/atmo-rep/data/imerg/imerg_regridded\")\n",
    "datadir_era5_raw = Path(\"/p/scratch/atmo-rep/data/era5/new_structure/total_precip/ml0\")\n",
    "\n",
    "date_now = pd.to_datetime(precip_era5[\"time\"][tidx].values)\n",
    "ym_str = date_now.strftime(\"y%Y_m%m\")\n",
    "\n",
    "fname_imerg_raw = datadir_imerg_raw.joinpath(f\"3B-HHR.MS.MRG.3IMERG.{ym_str}.nc\")\n",
    "fname_era5_raw = datadir_era5_raw.joinpath(f\"era5_total_precip_{ym_str}_ml0.nc\")"
   ]
  },
  {
   "cell_type": "code",
   "execution_count": 169,
   "id": "1bf05441-5a3a-4b82-99f8-c39adf96d261",
   "metadata": {},
   "outputs": [
    {
     "ename": "FileNotFoundError",
     "evalue": "[Errno 2] No such file or directory: '/p/scratch/atmo-rep/data/imerg/imerg_regridded/3B-HHR.MS.MRG.3IMERG.y1995_m04.nc'",
     "output_type": "error",
     "traceback": [
      "\u001b[0;31m---------------------------------------------------------------------------\u001b[0m",
      "\u001b[0;31mKeyError\u001b[0m                                  Traceback (most recent call last)",
      "File \u001b[0;32m/p/software/jurecadc/stages/2024/software/xarray/2023.8.0-gcccoreflexiblas-12.3.0-3.3.1/lib/python3.11/site-packages/xarray/backends/file_manager.py:211\u001b[0m, in \u001b[0;36mCachingFileManager._acquire_with_cache_info\u001b[0;34m(self, needs_lock)\u001b[0m\n\u001b[1;32m    210\u001b[0m \u001b[38;5;28;01mtry\u001b[39;00m:\n\u001b[0;32m--> 211\u001b[0m     file \u001b[38;5;241m=\u001b[39m \u001b[38;5;28;43mself\u001b[39;49m\u001b[38;5;241;43m.\u001b[39;49m\u001b[43m_cache\u001b[49m\u001b[43m[\u001b[49m\u001b[38;5;28;43mself\u001b[39;49m\u001b[38;5;241;43m.\u001b[39;49m\u001b[43m_key\u001b[49m\u001b[43m]\u001b[49m\n\u001b[1;32m    212\u001b[0m \u001b[38;5;28;01mexcept\u001b[39;00m \u001b[38;5;167;01mKeyError\u001b[39;00m:\n",
      "File \u001b[0;32m/p/software/jurecadc/stages/2024/software/xarray/2023.8.0-gcccoreflexiblas-12.3.0-3.3.1/lib/python3.11/site-packages/xarray/backends/lru_cache.py:56\u001b[0m, in \u001b[0;36mLRUCache.__getitem__\u001b[0;34m(self, key)\u001b[0m\n\u001b[1;32m     55\u001b[0m \u001b[38;5;28;01mwith\u001b[39;00m \u001b[38;5;28mself\u001b[39m\u001b[38;5;241m.\u001b[39m_lock:\n\u001b[0;32m---> 56\u001b[0m     value \u001b[38;5;241m=\u001b[39m \u001b[38;5;28;43mself\u001b[39;49m\u001b[38;5;241;43m.\u001b[39;49m\u001b[43m_cache\u001b[49m\u001b[43m[\u001b[49m\u001b[43mkey\u001b[49m\u001b[43m]\u001b[49m\n\u001b[1;32m     57\u001b[0m     \u001b[38;5;28mself\u001b[39m\u001b[38;5;241m.\u001b[39m_cache\u001b[38;5;241m.\u001b[39mmove_to_end(key)\n",
      "\u001b[0;31mKeyError\u001b[0m: [<class 'netCDF4._netCDF4.Dataset'>, ('/p/scratch/atmo-rep/data/imerg/imerg_regridded/3B-HHR.MS.MRG.3IMERG.y1995_m04.nc',), 'r', (('clobber', True), ('diskless', False), ('format', 'NETCDF4'), ('persist', False)), 'dae30150-329b-4656-ae25-f73dec889214']",
      "\nDuring handling of the above exception, another exception occurred:\n",
      "\u001b[0;31mFileNotFoundError\u001b[0m                         Traceback (most recent call last)",
      "Cell \u001b[0;32mIn[169], line 1\u001b[0m\n\u001b[0;32m----> 1\u001b[0m ds_imerg_raw \u001b[38;5;241m=\u001b[39m \u001b[43mxr\u001b[49m\u001b[38;5;241;43m.\u001b[39;49m\u001b[43mopen_dataset\u001b[49m\u001b[43m(\u001b[49m\u001b[43mfname_imerg_raw\u001b[49m\u001b[43m)\u001b[49m\n\u001b[1;32m      2\u001b[0m ds_era5_raw \u001b[38;5;241m=\u001b[39m xr\u001b[38;5;241m.\u001b[39mopen_dataset(fname_era5_raw)\n",
      "File \u001b[0;32m/p/software/jurecadc/stages/2024/software/xarray/2023.8.0-gcccoreflexiblas-12.3.0-3.3.1/lib/python3.11/site-packages/xarray/backends/api.py:570\u001b[0m, in \u001b[0;36mopen_dataset\u001b[0;34m(filename_or_obj, engine, chunks, cache, decode_cf, mask_and_scale, decode_times, decode_timedelta, use_cftime, concat_characters, decode_coords, drop_variables, inline_array, chunked_array_type, from_array_kwargs, backend_kwargs, **kwargs)\u001b[0m\n\u001b[1;32m    558\u001b[0m decoders \u001b[38;5;241m=\u001b[39m _resolve_decoders_kwargs(\n\u001b[1;32m    559\u001b[0m     decode_cf,\n\u001b[1;32m    560\u001b[0m     open_backend_dataset_parameters\u001b[38;5;241m=\u001b[39mbackend\u001b[38;5;241m.\u001b[39mopen_dataset_parameters,\n\u001b[0;32m   (...)\u001b[0m\n\u001b[1;32m    566\u001b[0m     decode_coords\u001b[38;5;241m=\u001b[39mdecode_coords,\n\u001b[1;32m    567\u001b[0m )\n\u001b[1;32m    569\u001b[0m overwrite_encoded_chunks \u001b[38;5;241m=\u001b[39m kwargs\u001b[38;5;241m.\u001b[39mpop(\u001b[38;5;124m\"\u001b[39m\u001b[38;5;124moverwrite_encoded_chunks\u001b[39m\u001b[38;5;124m\"\u001b[39m, \u001b[38;5;28;01mNone\u001b[39;00m)\n\u001b[0;32m--> 570\u001b[0m backend_ds \u001b[38;5;241m=\u001b[39m \u001b[43mbackend\u001b[49m\u001b[38;5;241;43m.\u001b[39;49m\u001b[43mopen_dataset\u001b[49m\u001b[43m(\u001b[49m\n\u001b[1;32m    571\u001b[0m \u001b[43m    \u001b[49m\u001b[43mfilename_or_obj\u001b[49m\u001b[43m,\u001b[49m\n\u001b[1;32m    572\u001b[0m \u001b[43m    \u001b[49m\u001b[43mdrop_variables\u001b[49m\u001b[38;5;241;43m=\u001b[39;49m\u001b[43mdrop_variables\u001b[49m\u001b[43m,\u001b[49m\n\u001b[1;32m    573\u001b[0m \u001b[43m    \u001b[49m\u001b[38;5;241;43m*\u001b[39;49m\u001b[38;5;241;43m*\u001b[39;49m\u001b[43mdecoders\u001b[49m\u001b[43m,\u001b[49m\n\u001b[1;32m    574\u001b[0m \u001b[43m    \u001b[49m\u001b[38;5;241;43m*\u001b[39;49m\u001b[38;5;241;43m*\u001b[39;49m\u001b[43mkwargs\u001b[49m\u001b[43m,\u001b[49m\n\u001b[1;32m    575\u001b[0m \u001b[43m\u001b[49m\u001b[43m)\u001b[49m\n\u001b[1;32m    576\u001b[0m ds \u001b[38;5;241m=\u001b[39m _dataset_from_backend_dataset(\n\u001b[1;32m    577\u001b[0m     backend_ds,\n\u001b[1;32m    578\u001b[0m     filename_or_obj,\n\u001b[0;32m   (...)\u001b[0m\n\u001b[1;32m    588\u001b[0m     \u001b[38;5;241m*\u001b[39m\u001b[38;5;241m*\u001b[39mkwargs,\n\u001b[1;32m    589\u001b[0m )\n\u001b[1;32m    590\u001b[0m \u001b[38;5;28;01mreturn\u001b[39;00m ds\n",
      "File \u001b[0;32m/p/software/jurecadc/stages/2024/software/xarray/2023.8.0-gcccoreflexiblas-12.3.0-3.3.1/lib/python3.11/site-packages/xarray/backends/netCDF4_.py:602\u001b[0m, in \u001b[0;36mNetCDF4BackendEntrypoint.open_dataset\u001b[0;34m(self, filename_or_obj, mask_and_scale, decode_times, concat_characters, decode_coords, drop_variables, use_cftime, decode_timedelta, group, mode, format, clobber, diskless, persist, lock, autoclose)\u001b[0m\n\u001b[1;32m    581\u001b[0m \u001b[38;5;28;01mdef\u001b[39;00m \u001b[38;5;21mopen_dataset\u001b[39m(  \u001b[38;5;66;03m# type: ignore[override]  # allow LSP violation, not supporting **kwargs\u001b[39;00m\n\u001b[1;32m    582\u001b[0m     \u001b[38;5;28mself\u001b[39m,\n\u001b[1;32m    583\u001b[0m     filename_or_obj: \u001b[38;5;28mstr\u001b[39m \u001b[38;5;241m|\u001b[39m os\u001b[38;5;241m.\u001b[39mPathLike[Any] \u001b[38;5;241m|\u001b[39m BufferedIOBase \u001b[38;5;241m|\u001b[39m AbstractDataStore,\n\u001b[0;32m   (...)\u001b[0m\n\u001b[1;32m    599\u001b[0m     autoclose\u001b[38;5;241m=\u001b[39m\u001b[38;5;28;01mFalse\u001b[39;00m,\n\u001b[1;32m    600\u001b[0m ) \u001b[38;5;241m-\u001b[39m\u001b[38;5;241m>\u001b[39m Dataset:\n\u001b[1;32m    601\u001b[0m     filename_or_obj \u001b[38;5;241m=\u001b[39m _normalize_path(filename_or_obj)\n\u001b[0;32m--> 602\u001b[0m     store \u001b[38;5;241m=\u001b[39m \u001b[43mNetCDF4DataStore\u001b[49m\u001b[38;5;241;43m.\u001b[39;49m\u001b[43mopen\u001b[49m\u001b[43m(\u001b[49m\n\u001b[1;32m    603\u001b[0m \u001b[43m        \u001b[49m\u001b[43mfilename_or_obj\u001b[49m\u001b[43m,\u001b[49m\n\u001b[1;32m    604\u001b[0m \u001b[43m        \u001b[49m\u001b[43mmode\u001b[49m\u001b[38;5;241;43m=\u001b[39;49m\u001b[43mmode\u001b[49m\u001b[43m,\u001b[49m\n\u001b[1;32m    605\u001b[0m \u001b[43m        \u001b[49m\u001b[38;5;28;43mformat\u001b[39;49m\u001b[38;5;241;43m=\u001b[39;49m\u001b[38;5;28;43mformat\u001b[39;49m\u001b[43m,\u001b[49m\n\u001b[1;32m    606\u001b[0m \u001b[43m        \u001b[49m\u001b[43mgroup\u001b[49m\u001b[38;5;241;43m=\u001b[39;49m\u001b[43mgroup\u001b[49m\u001b[43m,\u001b[49m\n\u001b[1;32m    607\u001b[0m \u001b[43m        \u001b[49m\u001b[43mclobber\u001b[49m\u001b[38;5;241;43m=\u001b[39;49m\u001b[43mclobber\u001b[49m\u001b[43m,\u001b[49m\n\u001b[1;32m    608\u001b[0m \u001b[43m        \u001b[49m\u001b[43mdiskless\u001b[49m\u001b[38;5;241;43m=\u001b[39;49m\u001b[43mdiskless\u001b[49m\u001b[43m,\u001b[49m\n\u001b[1;32m    609\u001b[0m \u001b[43m        \u001b[49m\u001b[43mpersist\u001b[49m\u001b[38;5;241;43m=\u001b[39;49m\u001b[43mpersist\u001b[49m\u001b[43m,\u001b[49m\n\u001b[1;32m    610\u001b[0m \u001b[43m        \u001b[49m\u001b[43mlock\u001b[49m\u001b[38;5;241;43m=\u001b[39;49m\u001b[43mlock\u001b[49m\u001b[43m,\u001b[49m\n\u001b[1;32m    611\u001b[0m \u001b[43m        \u001b[49m\u001b[43mautoclose\u001b[49m\u001b[38;5;241;43m=\u001b[39;49m\u001b[43mautoclose\u001b[49m\u001b[43m,\u001b[49m\n\u001b[1;32m    612\u001b[0m \u001b[43m    \u001b[49m\u001b[43m)\u001b[49m\n\u001b[1;32m    614\u001b[0m     store_entrypoint \u001b[38;5;241m=\u001b[39m StoreBackendEntrypoint()\n\u001b[1;32m    615\u001b[0m     \u001b[38;5;28;01mwith\u001b[39;00m close_on_error(store):\n",
      "File \u001b[0;32m/p/software/jurecadc/stages/2024/software/xarray/2023.8.0-gcccoreflexiblas-12.3.0-3.3.1/lib/python3.11/site-packages/xarray/backends/netCDF4_.py:400\u001b[0m, in \u001b[0;36mNetCDF4DataStore.open\u001b[0;34m(cls, filename, mode, format, group, clobber, diskless, persist, lock, lock_maker, autoclose)\u001b[0m\n\u001b[1;32m    394\u001b[0m kwargs \u001b[38;5;241m=\u001b[39m \u001b[38;5;28mdict\u001b[39m(\n\u001b[1;32m    395\u001b[0m     clobber\u001b[38;5;241m=\u001b[39mclobber, diskless\u001b[38;5;241m=\u001b[39mdiskless, persist\u001b[38;5;241m=\u001b[39mpersist, \u001b[38;5;28mformat\u001b[39m\u001b[38;5;241m=\u001b[39m\u001b[38;5;28mformat\u001b[39m\n\u001b[1;32m    396\u001b[0m )\n\u001b[1;32m    397\u001b[0m manager \u001b[38;5;241m=\u001b[39m CachingFileManager(\n\u001b[1;32m    398\u001b[0m     netCDF4\u001b[38;5;241m.\u001b[39mDataset, filename, mode\u001b[38;5;241m=\u001b[39mmode, kwargs\u001b[38;5;241m=\u001b[39mkwargs\n\u001b[1;32m    399\u001b[0m )\n\u001b[0;32m--> 400\u001b[0m \u001b[38;5;28;01mreturn\u001b[39;00m \u001b[38;5;28;43mcls\u001b[39;49m\u001b[43m(\u001b[49m\u001b[43mmanager\u001b[49m\u001b[43m,\u001b[49m\u001b[43m \u001b[49m\u001b[43mgroup\u001b[49m\u001b[38;5;241;43m=\u001b[39;49m\u001b[43mgroup\u001b[49m\u001b[43m,\u001b[49m\u001b[43m \u001b[49m\u001b[43mmode\u001b[49m\u001b[38;5;241;43m=\u001b[39;49m\u001b[43mmode\u001b[49m\u001b[43m,\u001b[49m\u001b[43m \u001b[49m\u001b[43mlock\u001b[49m\u001b[38;5;241;43m=\u001b[39;49m\u001b[43mlock\u001b[49m\u001b[43m,\u001b[49m\u001b[43m \u001b[49m\u001b[43mautoclose\u001b[49m\u001b[38;5;241;43m=\u001b[39;49m\u001b[43mautoclose\u001b[49m\u001b[43m)\u001b[49m\n",
      "File \u001b[0;32m/p/software/jurecadc/stages/2024/software/xarray/2023.8.0-gcccoreflexiblas-12.3.0-3.3.1/lib/python3.11/site-packages/xarray/backends/netCDF4_.py:347\u001b[0m, in \u001b[0;36mNetCDF4DataStore.__init__\u001b[0;34m(self, manager, group, mode, lock, autoclose)\u001b[0m\n\u001b[1;32m    345\u001b[0m \u001b[38;5;28mself\u001b[39m\u001b[38;5;241m.\u001b[39m_group \u001b[38;5;241m=\u001b[39m group\n\u001b[1;32m    346\u001b[0m \u001b[38;5;28mself\u001b[39m\u001b[38;5;241m.\u001b[39m_mode \u001b[38;5;241m=\u001b[39m mode\n\u001b[0;32m--> 347\u001b[0m \u001b[38;5;28mself\u001b[39m\u001b[38;5;241m.\u001b[39mformat \u001b[38;5;241m=\u001b[39m \u001b[38;5;28;43mself\u001b[39;49m\u001b[38;5;241;43m.\u001b[39;49m\u001b[43mds\u001b[49m\u001b[38;5;241m.\u001b[39mdata_model\n\u001b[1;32m    348\u001b[0m \u001b[38;5;28mself\u001b[39m\u001b[38;5;241m.\u001b[39m_filename \u001b[38;5;241m=\u001b[39m \u001b[38;5;28mself\u001b[39m\u001b[38;5;241m.\u001b[39mds\u001b[38;5;241m.\u001b[39mfilepath()\n\u001b[1;32m    349\u001b[0m \u001b[38;5;28mself\u001b[39m\u001b[38;5;241m.\u001b[39mis_remote \u001b[38;5;241m=\u001b[39m is_remote_uri(\u001b[38;5;28mself\u001b[39m\u001b[38;5;241m.\u001b[39m_filename)\n",
      "File \u001b[0;32m/p/software/jurecadc/stages/2024/software/xarray/2023.8.0-gcccoreflexiblas-12.3.0-3.3.1/lib/python3.11/site-packages/xarray/backends/netCDF4_.py:409\u001b[0m, in \u001b[0;36mNetCDF4DataStore.ds\u001b[0;34m(self)\u001b[0m\n\u001b[1;32m    407\u001b[0m \u001b[38;5;129m@property\u001b[39m\n\u001b[1;32m    408\u001b[0m \u001b[38;5;28;01mdef\u001b[39;00m \u001b[38;5;21mds\u001b[39m(\u001b[38;5;28mself\u001b[39m):\n\u001b[0;32m--> 409\u001b[0m     \u001b[38;5;28;01mreturn\u001b[39;00m \u001b[38;5;28;43mself\u001b[39;49m\u001b[38;5;241;43m.\u001b[39;49m\u001b[43m_acquire\u001b[49m\u001b[43m(\u001b[49m\u001b[43m)\u001b[49m\n",
      "File \u001b[0;32m/p/software/jurecadc/stages/2024/software/xarray/2023.8.0-gcccoreflexiblas-12.3.0-3.3.1/lib/python3.11/site-packages/xarray/backends/netCDF4_.py:403\u001b[0m, in \u001b[0;36mNetCDF4DataStore._acquire\u001b[0;34m(self, needs_lock)\u001b[0m\n\u001b[1;32m    402\u001b[0m \u001b[38;5;28;01mdef\u001b[39;00m \u001b[38;5;21m_acquire\u001b[39m(\u001b[38;5;28mself\u001b[39m, needs_lock\u001b[38;5;241m=\u001b[39m\u001b[38;5;28;01mTrue\u001b[39;00m):\n\u001b[0;32m--> 403\u001b[0m \u001b[43m    \u001b[49m\u001b[38;5;28;43;01mwith\u001b[39;49;00m\u001b[43m \u001b[49m\u001b[38;5;28;43mself\u001b[39;49m\u001b[38;5;241;43m.\u001b[39;49m\u001b[43m_manager\u001b[49m\u001b[38;5;241;43m.\u001b[39;49m\u001b[43macquire_context\u001b[49m\u001b[43m(\u001b[49m\u001b[43mneeds_lock\u001b[49m\u001b[43m)\u001b[49m\u001b[43m \u001b[49m\u001b[38;5;28;43;01mas\u001b[39;49;00m\u001b[43m \u001b[49m\u001b[43mroot\u001b[49m\u001b[43m:\u001b[49m\n\u001b[1;32m    404\u001b[0m \u001b[43m        \u001b[49m\u001b[43mds\u001b[49m\u001b[43m \u001b[49m\u001b[38;5;241;43m=\u001b[39;49m\u001b[43m \u001b[49m\u001b[43m_nc4_require_group\u001b[49m\u001b[43m(\u001b[49m\u001b[43mroot\u001b[49m\u001b[43m,\u001b[49m\u001b[43m \u001b[49m\u001b[38;5;28;43mself\u001b[39;49m\u001b[38;5;241;43m.\u001b[39;49m\u001b[43m_group\u001b[49m\u001b[43m,\u001b[49m\u001b[43m \u001b[49m\u001b[38;5;28;43mself\u001b[39;49m\u001b[38;5;241;43m.\u001b[39;49m\u001b[43m_mode\u001b[49m\u001b[43m)\u001b[49m\n\u001b[1;32m    405\u001b[0m     \u001b[38;5;28;01mreturn\u001b[39;00m ds\n",
      "File \u001b[0;32m/p/software/jurecadc/stages/2024/software/Python/3.11.3-GCCcore-12.3.0/lib/python3.11/contextlib.py:137\u001b[0m, in \u001b[0;36m_GeneratorContextManager.__enter__\u001b[0;34m(self)\u001b[0m\n\u001b[1;32m    135\u001b[0m \u001b[38;5;28;01mdel\u001b[39;00m \u001b[38;5;28mself\u001b[39m\u001b[38;5;241m.\u001b[39margs, \u001b[38;5;28mself\u001b[39m\u001b[38;5;241m.\u001b[39mkwds, \u001b[38;5;28mself\u001b[39m\u001b[38;5;241m.\u001b[39mfunc\n\u001b[1;32m    136\u001b[0m \u001b[38;5;28;01mtry\u001b[39;00m:\n\u001b[0;32m--> 137\u001b[0m     \u001b[38;5;28;01mreturn\u001b[39;00m \u001b[38;5;28mnext\u001b[39m(\u001b[38;5;28mself\u001b[39m\u001b[38;5;241m.\u001b[39mgen)\n\u001b[1;32m    138\u001b[0m \u001b[38;5;28;01mexcept\u001b[39;00m \u001b[38;5;167;01mStopIteration\u001b[39;00m:\n\u001b[1;32m    139\u001b[0m     \u001b[38;5;28;01mraise\u001b[39;00m \u001b[38;5;167;01mRuntimeError\u001b[39;00m(\u001b[38;5;124m\"\u001b[39m\u001b[38;5;124mgenerator didn\u001b[39m\u001b[38;5;124m'\u001b[39m\u001b[38;5;124mt yield\u001b[39m\u001b[38;5;124m\"\u001b[39m) \u001b[38;5;28;01mfrom\u001b[39;00m \u001b[38;5;28;01mNone\u001b[39;00m\n",
      "File \u001b[0;32m/p/software/jurecadc/stages/2024/software/xarray/2023.8.0-gcccoreflexiblas-12.3.0-3.3.1/lib/python3.11/site-packages/xarray/backends/file_manager.py:199\u001b[0m, in \u001b[0;36mCachingFileManager.acquire_context\u001b[0;34m(self, needs_lock)\u001b[0m\n\u001b[1;32m    196\u001b[0m \u001b[38;5;129m@contextlib\u001b[39m\u001b[38;5;241m.\u001b[39mcontextmanager\n\u001b[1;32m    197\u001b[0m \u001b[38;5;28;01mdef\u001b[39;00m \u001b[38;5;21macquire_context\u001b[39m(\u001b[38;5;28mself\u001b[39m, needs_lock\u001b[38;5;241m=\u001b[39m\u001b[38;5;28;01mTrue\u001b[39;00m):\n\u001b[1;32m    198\u001b[0m \u001b[38;5;250m    \u001b[39m\u001b[38;5;124;03m\"\"\"Context manager for acquiring a file.\"\"\"\u001b[39;00m\n\u001b[0;32m--> 199\u001b[0m     file, cached \u001b[38;5;241m=\u001b[39m \u001b[38;5;28;43mself\u001b[39;49m\u001b[38;5;241;43m.\u001b[39;49m\u001b[43m_acquire_with_cache_info\u001b[49m\u001b[43m(\u001b[49m\u001b[43mneeds_lock\u001b[49m\u001b[43m)\u001b[49m\n\u001b[1;32m    200\u001b[0m     \u001b[38;5;28;01mtry\u001b[39;00m:\n\u001b[1;32m    201\u001b[0m         \u001b[38;5;28;01myield\u001b[39;00m file\n",
      "File \u001b[0;32m/p/software/jurecadc/stages/2024/software/xarray/2023.8.0-gcccoreflexiblas-12.3.0-3.3.1/lib/python3.11/site-packages/xarray/backends/file_manager.py:217\u001b[0m, in \u001b[0;36mCachingFileManager._acquire_with_cache_info\u001b[0;34m(self, needs_lock)\u001b[0m\n\u001b[1;32m    215\u001b[0m     kwargs \u001b[38;5;241m=\u001b[39m kwargs\u001b[38;5;241m.\u001b[39mcopy()\n\u001b[1;32m    216\u001b[0m     kwargs[\u001b[38;5;124m\"\u001b[39m\u001b[38;5;124mmode\u001b[39m\u001b[38;5;124m\"\u001b[39m] \u001b[38;5;241m=\u001b[39m \u001b[38;5;28mself\u001b[39m\u001b[38;5;241m.\u001b[39m_mode\n\u001b[0;32m--> 217\u001b[0m file \u001b[38;5;241m=\u001b[39m \u001b[38;5;28;43mself\u001b[39;49m\u001b[38;5;241;43m.\u001b[39;49m\u001b[43m_opener\u001b[49m\u001b[43m(\u001b[49m\u001b[38;5;241;43m*\u001b[39;49m\u001b[38;5;28;43mself\u001b[39;49m\u001b[38;5;241;43m.\u001b[39;49m\u001b[43m_args\u001b[49m\u001b[43m,\u001b[49m\u001b[43m \u001b[49m\u001b[38;5;241;43m*\u001b[39;49m\u001b[38;5;241;43m*\u001b[39;49m\u001b[43mkwargs\u001b[49m\u001b[43m)\u001b[49m\n\u001b[1;32m    218\u001b[0m \u001b[38;5;28;01mif\u001b[39;00m \u001b[38;5;28mself\u001b[39m\u001b[38;5;241m.\u001b[39m_mode \u001b[38;5;241m==\u001b[39m \u001b[38;5;124m\"\u001b[39m\u001b[38;5;124mw\u001b[39m\u001b[38;5;124m\"\u001b[39m:\n\u001b[1;32m    219\u001b[0m     \u001b[38;5;66;03m# ensure file doesn't get overridden when opened again\u001b[39;00m\n\u001b[1;32m    220\u001b[0m     \u001b[38;5;28mself\u001b[39m\u001b[38;5;241m.\u001b[39m_mode \u001b[38;5;241m=\u001b[39m \u001b[38;5;124m\"\u001b[39m\u001b[38;5;124ma\u001b[39m\u001b[38;5;124m\"\u001b[39m\n",
      "File \u001b[0;32msrc/netCDF4/_netCDF4.pyx:2464\u001b[0m, in \u001b[0;36mnetCDF4._netCDF4.Dataset.__init__\u001b[0;34m()\u001b[0m\n",
      "File \u001b[0;32msrc/netCDF4/_netCDF4.pyx:2027\u001b[0m, in \u001b[0;36mnetCDF4._netCDF4._ensure_nc_success\u001b[0;34m()\u001b[0m\n",
      "\u001b[0;31mFileNotFoundError\u001b[0m: [Errno 2] No such file or directory: '/p/scratch/atmo-rep/data/imerg/imerg_regridded/3B-HHR.MS.MRG.3IMERG.y1995_m04.nc'"
     ]
    }
   ],
   "source": [
    "ds_imerg_raw = xr.open_dataset(fname_imerg_raw)\n",
    "ds_era5_raw = xr.open_dataset(fname_era5_raw)"
   ]
  },
  {
   "cell_type": "code",
   "execution_count": null,
   "id": "ea073d36-df68-40a5-a274-83b5fb1dfbdf",
   "metadata": {},
   "outputs": [],
   "source": [
    "lat_range = (ds_imerg[\"total_precip\"][\"lats\"].values[0]-.01, ds_imerg[\"total_precip\"][\"lats\"].values[-1]+.01)\n",
    "lon_range = (ds_imerg[\"total_precip\"][\"lons\"].values[0]-.01, ds_imerg[\"total_precip\"][\"lons\"].values[-1]+.01)\n",
    "\n",
    "precip_imerg_raw = ds_imerg_raw[\"precipitation\"].sel({\"lat\": slice(*lat_range), \"lon\": slice(*lon_range), \n",
    "                                                     \"time\": date_now})\n",
    "precip_era5_raw = ds_era5_raw[\"tp\"].sel({\"latitude\": slice(*lat_range[::-1]), \"longitude\": slice(*lon_range), \n",
    "                                         \"time\": date_now})*1000."
   ]
  },
  {
   "cell_type": "code",
   "execution_count": null,
   "id": "da6ce795-45fa-4640-a606-275423e3ccf0",
   "metadata": {},
   "outputs": [],
   "source": [
    "precip_era5_raw = precip_era5_raw.reindex({\"latitude\": precip_era5_raw[\"latitude\"][::-1]})"
   ]
  },
  {
   "cell_type": "code",
   "execution_count": null,
   "id": "529d6570-5cf2-4f5e-8438-ebcad7bea977",
   "metadata": {},
   "outputs": [],
   "source": [
    "precip_imerg_raw.plot(vmin=0., vmax=2.)\n",
    "\n",
    "plt.show()"
   ]
  },
  {
   "cell_type": "code",
   "execution_count": null,
   "id": "21cc9d4c-7478-43f2-bbc2-ec48ae8b1623",
   "metadata": {},
   "outputs": [],
   "source": [
    "precip_era5_raw.plot(vmin=0., vmax=2.)\n",
    "\n",
    "plt.show()"
   ]
  },
  {
   "cell_type": "code",
   "execution_count": null,
   "id": "0a1301b3-fc91-429b-97f2-ad6d1c481d91",
   "metadata": {},
   "outputs": [],
   "source": []
  },
  {
   "cell_type": "code",
   "execution_count": null,
   "id": "49968e32-8526-475b-994b-3fd1d9343661",
   "metadata": {},
   "outputs": [],
   "source": []
  }
 ],
 "metadata": {
  "kernelspec": {
   "display_name": "hclimrep_hackathon",
   "language": "python",
   "name": "hclimrep_hackathon"
  },
  "language_info": {
   "codemirror_mode": {
    "name": "ipython",
    "version": 3
   },
   "file_extension": ".py",
   "mimetype": "text/x-python",
   "name": "python",
   "nbconvert_exporter": "python",
   "pygments_lexer": "ipython3",
   "version": "3.11.3"
  }
 },
 "nbformat": 4,
 "nbformat_minor": 5
}
