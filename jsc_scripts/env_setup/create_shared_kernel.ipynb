{
 "cells": [
  {
   "cell_type": "markdown",
   "id": "999f9dd7-9376-455b-b238-3a519d688ad4",
   "metadata": {},
   "source": [
    "<h5 style=\"text-align: right\">Author: <a href=\"mailto:m.langguth@fz-juelich.de?subject=Jupyter-JSC%20documentation\">Michael Langguth</a></h5>  \n",
    "<h1 style=\"text-align: center\">Create Jupyter Kernel from the shared AtmoRep virtual environment</h1> \n",
    "\n",
    "The following Notebook creates a Jupyter kernel by wrapping the provided virtual environment available under `/p/project/training2445/shared/virtual_envs/venv_jrc/`.\n",
    "The Notebook is based upon Jens Henrik Böbbert's Notebook to create a new [Jupyter kernel](https://jupyter.jsc.fz-juelich.de/hub/user-redirect/lab/tree/GitLab%3Ajupyter4jsc/j4j_notebooks/03-HowTos/Create_JupyterKernel_general.ipynb), but rather links the pre-existing virtual environment than setting up a new from scratch.\n",
    "\n",
    "-------------------------\n",
    "\n",
    "## Building your own Jupyter kernel is a three step process\n",
    "1. Link pre-existing virtual Python environment and add package for Jupyter kernel\n",
    "   * venv\n",
    "2. Create/Edit launch script for the Jupyter kernel\n",
    "   * kernel.sh\n",
    "3. Create/Edit Jupyter kernel configuration\n",
    "   * kernel.json\n",
    "   \n",
    "### Settings\n",
    "\n",
    "#### Set the kernel name\n",
    "  - must be lower case\n",
    "  - change if you like"
   ]
  },
  {
   "cell_type": "code",
   "execution_count": 2,
   "id": "e1be008f-4420-4bef-b187-31542788a8b6",
   "metadata": {},
   "outputs": [
    {
     "name": "stdout",
     "output_type": "stream",
     "text": [
      "hclimrep_hackathon\n"
     ]
    }
   ],
   "source": [
    "KERNEL_NAME=hclimrep_hackathon\n",
    "\n",
    "export KERNEL_NAME=$(echo \"${KERNEL_NAME}\" | awk '{print tolower($0)}')\n",
    "echo ${KERNEL_NAME} # double check"
   ]
  },
  {
   "cell_type": "markdown",
   "id": "e7373a4c-88d2-4d51-ba69-1845d2457080",
   "metadata": {},
   "source": [
    "#### Set the kernel directory\n",
    "  - check that the kernel name is unique\n",
    "  - print the location of the new kernel"
   ]
  },
  {
   "cell_type": "code",
   "execution_count": 3,
   "id": "079d23ae-3604-42b8-bae1-d803178b283d",
   "metadata": {},
   "outputs": [
    {
     "name": "stdout",
     "output_type": "stream",
     "text": [
      "/p/home/jusers/langguth1/jureca/.local/share/jupyter/kernels/hclimrep_hackathon\n"
     ]
    }
   ],
   "source": [
    "# define KERNEL_SPECS_DIR\n",
    "export KERNEL_SPECS_PREFIX=${HOME}/.local\n",
    "if [ ! -d \"$KERNEL_SPECS_PREFIX\" ]; then\n",
    "  echo \"ERROR: please create directory $KERNEL_SPECS_PREFIX\"\n",
    "fi\n",
    "export KERNEL_SPECS_DIR=${KERNEL_SPECS_PREFIX}/share/jupyter/kernels\n",
    "\n",
    "# check if kernel name is unique\n",
    "if [ -d \"${KERNEL_SPECS_DIR}/${KERNEL_NAME}\" ]; then\n",
    "  echo \"ERROR: Kernel already exists in ${KERNEL_SPECS_DIR}/${KERNEL_NAME}\"\n",
    "  echo \"       Rename kernel name or remove directory.\"\n",
    "fi\n",
    "\n",
    "# print the location of the new kernel\n",
    "echo ${KERNEL_SPECS_DIR}/${KERNEL_NAME} "
   ]
  },
  {
   "cell_type": "markdown",
   "id": "1f4716f9-2f76-41dc-9fc7-4063d4e268ff",
   "metadata": {},
   "source": [
    "#### Set the kernel's virtual environment for linking\n",
    "Next, we create a directory where the actual kernel-file will be located. \n",
    "Furthermore, we provide the link to the shared virtual environment."
   ]
  },
  {
   "cell_type": "code",
   "execution_count": 4,
   "id": "69c43dd8-f3e2-4fa5-aae5-64ef0665eb27",
   "metadata": {},
   "outputs": [],
   "source": [
    "# define KERNEL_VENVS_DIR\n",
    "export VIRTUAL_ENV_SRC=/p/project/training2445/shared/virtual_envs/venv_jrc/\n",
    "export KERNEL_VENVS_DIR=/p/project/training2445/shared/jupyter/kernels\n",
    "export VIRTUAL_ENV_DEST=${KERNEL_VENVS_DIR}/${KERNEL_NAME}\n",
    "\n",
    "mkdir -p ${VIRTUAL_ENV_DEST}"
   ]
  },
  {
   "cell_type": "markdown",
   "id": "bb818d84-b8ef-467a-bdd0-e6d84faaff2c",
   "metadata": {},
   "source": [
    "## 1. Create launch script for the Jupyter kernel\n",
    "\n",
    "#### 1.1 - Create launch script, which loads your Python virtual environment and starts the ipykernel process inside:\n",
    "\n",
    "<div class=\"alert alert-block alert-info\">\n",
    "<b>Attention:</b>\n",
    "Don't change the list of loaded modules since the linked virtual environment depends upon them.\n",
    "</div>"
   ]
  },
  {
   "cell_type": "code",
   "execution_count": 13,
   "id": "84ca6b15-cfa4-48d7-a8e3-8ac6b2c8592a",
   "metadata": {},
   "outputs": [
    {
     "name": "stdout",
     "output_type": "stream",
     "text": [
      "#!/bin/bash\n",
      "\n",
      "# Load software modules\n",
      "ml --force purge\n",
      "ml use /p/software/default/otherstages\n",
      "ml Stages/2024\n",
      "\n",
      "ml CUDA \n",
      "\n",
      "ml GCC/12.3.0\n",
      "ml GCCcore/.12.3.0\n",
      "\n",
      "ml OpenMPI/4.1.5\n",
      "\n",
      "ml SciPy-bundle/2023.07\n",
      "ml matplotlib/3.7.2\n",
      "ml xarray/2023.8.0\n",
      "ml dask/2023.9.2\n",
      "ml ecCodes/2.31.0\n",
      "ml zarr/2.18.3\n",
      "ml PyYAML/6.0\n",
      "ml netcdf4-python/1.6.4-serial\n",
      "    \n",
      "# Activate your Python virtual environment\n",
      "source /p/project/training2445/shared/virtual_envs/venv_jrc//bin/activate\n",
      "    \n",
      "exec python -m ipykernel $@\n"
     ]
    }
   ],
   "source": [
    "echo '#!/bin/bash'\"\n",
    "\n",
    "# Load software modules\n",
    "ml --force purge\n",
    "ml use $OTHERSTAGES\n",
    "ml Stages/2024\n",
    "\n",
    "ml CUDA \n",
    "\n",
    "ml GCC/12.3.0\n",
    "ml GCCcore/.12.3.0\n",
    "\n",
    "ml OpenMPI/4.1.5\n",
    "\n",
    "ml SciPy-bundle/2023.07\n",
    "ml matplotlib/3.7.2\n",
    "ml xarray/2023.8.0\n",
    "ml dask/2023.9.2\n",
    "ml ecCodes/2.31.0\n",
    "ml zarr/2.18.3\n",
    "ml PyYAML/6.0\n",
    "ml netcdf4-python/1.6.4-serial\n",
    "    \n",
    "# Activate your Python virtual environment\n",
    "source ${VIRTUAL_ENV_SRC}/bin/activate\n",
    "    \n",
    "exec python -m ipykernel \"'$@' > ${VIRTUAL_ENV_DEST}/kernel.sh\n",
    "chmod +x ${VIRTUAL_ENV_DEST}/kernel.sh\n",
    "\n",
    "cat ${VIRTUAL_ENV_DEST}/kernel.sh # double check"
   ]
  },
  {
   "cell_type": "markdown",
   "id": "53a7c6be-456a-4cc6-b05d-98df87a599e1",
   "metadata": {},
   "source": [
    "## 2. Create/Edit Jupyter kernel configuration\n",
    "\n",
    "#### 2.1 - Create Jupyter kernel configuration directory and files"
   ]
  },
  {
   "cell_type": "code",
   "execution_count": 6,
   "id": "d576b57a-b317-419a-a430-bdad181560b8",
   "metadata": {},
   "outputs": [
    {
     "name": "stdout",
     "output_type": "stream",
     "text": [
      "\n",
      "The following have been reloaded with a version change:\n",
      "  1) HDF5/1.14.2 => HDF5/1.14.2-serial     2) netCDF/4.9.2 => netCDF/4.9.2-serial\n",
      "\n"
     ]
    }
   ],
   "source": [
    "ml --force purge\n",
    "ml use $OTHERSTAGES\n",
    "ml Stages/2024\n",
    "\n",
    "ml CUDA \n",
    "\n",
    "ml GCC/12.3.0\n",
    "ml GCCcore/.12.3.0\n",
    "\n",
    "ml OpenMPI/4.1.5\n",
    "\n",
    "ml SciPy-bundle/2023.07\n",
    "ml matplotlib/3.7.2\n",
    "ml xarray/2023.8.0\n",
    "ml dask/2023.9.2\n",
    "ml ecCodes/2.31.0\n",
    "ml zarr/2.18.3\n",
    "ml PyYAML/6.0\n",
    "ml netcdf4-python/1.6.4-serial\n",
    "    \n",
    "# Activate your Python virtual environment\n",
    "source ${VIRTUAL_ENV_SRC}/bin/activate"
   ]
  },
  {
   "cell_type": "code",
   "execution_count": 16,
   "id": "78e413fa-7cc1-4512-9d53-e763ae54ae16",
   "metadata": {},
   "outputs": [
    {
     "name": "stdout",
     "output_type": "stream",
     "text": [
      "Collecting ipykernel\n",
      "  Using cached ipykernel-6.29.5-py3-none-any.whl (117 kB)\n",
      "Collecting comm>=0.1.1\n",
      "  Using cached comm-0.2.2-py3-none-any.whl (7.2 kB)\n",
      "Collecting debugpy>=1.6.5\n",
      "  Using cached debugpy-1.8.8-cp311-cp311-manylinux_2_5_x86_64.manylinux1_x86_64.manylinux_2_17_x86_64.manylinux2014_x86_64.whl (3.1 MB)\n",
      "Collecting ipython>=7.23.1\n",
      "  Using cached ipython-8.29.0-py3-none-any.whl (819 kB)\n",
      "Collecting jupyter-client>=6.1.12\n",
      "  Using cached jupyter_client-8.6.3-py3-none-any.whl (106 kB)\n",
      "Collecting jupyter-core!=5.0.*,>=4.12\n",
      "  Using cached jupyter_core-5.7.2-py3-none-any.whl (28 kB)\n",
      "Collecting matplotlib-inline>=0.1\n",
      "  Using cached matplotlib_inline-0.1.7-py3-none-any.whl (9.9 kB)\n",
      "Collecting nest-asyncio\n",
      "  Using cached nest_asyncio-1.6.0-py3-none-any.whl (5.2 kB)\n",
      "Requirement already satisfied: packaging in /p/software/jurecadc/stages/2024/software/hatchling/1.18.0-GCCcore-12.3.0/lib/python3.11/site-packages (from ipykernel) (23.1)\n",
      "Requirement already satisfied: psutil in /p/software/jurecadc/stages/2024/software/Python-bundle-PyPI/2023.06-GCCcore-12.3.0/lib/python3.11/site-packages (from ipykernel) (5.9.5)\n",
      "Collecting pyzmq>=24\n",
      "  Using cached pyzmq-26.2.0-cp311-cp311-manylinux_2_28_x86_64.whl (869 kB)\n",
      "Requirement already satisfied: tornado>=6.1 in /p/software/jurecadc/stages/2024/software/tornado/6.3.2-GCCcore-12.3.0/lib/python3.11/site-packages (from ipykernel) (6.3.2)\n",
      "Collecting traitlets>=5.4.0\n",
      "  Using cached traitlets-5.14.3-py3-none-any.whl (85 kB)\n",
      "Requirement already satisfied: decorator in /p/software/jurecadc/stages/2024/software/Python-bundle-PyPI/2023.06-GCCcore-12.3.0/lib/python3.11/site-packages (from ipython>=7.23.1->ipykernel) (5.1.1)\n",
      "Collecting jedi>=0.16\n",
      "  Using cached jedi-0.19.2-py2.py3-none-any.whl (1.6 MB)\n",
      "Collecting prompt-toolkit<3.1.0,>=3.0.41\n",
      "  Using cached prompt_toolkit-3.0.48-py3-none-any.whl (386 kB)\n",
      "Requirement already satisfied: pygments>=2.4.0 in /p/software/jurecadc/stages/2024/software/Python-bundle-PyPI/2023.06-GCCcore-12.3.0/lib/python3.11/site-packages (from ipython>=7.23.1->ipykernel) (2.15.1)\n",
      "Collecting stack-data\n",
      "  Using cached stack_data-0.6.3-py3-none-any.whl (24 kB)\n",
      "Requirement already satisfied: typing-extensions>=4.6 in /p/software/jurecadc/stages/2024/software/hatchling/1.18.0-GCCcore-12.3.0/lib/python3.11/site-packages (from ipython>=7.23.1->ipykernel) (4.6.3)\n",
      "Requirement already satisfied: pexpect>4.3 in /p/software/jurecadc/stages/2024/software/Python-bundle-PyPI/2023.06-GCCcore-12.3.0/lib/python3.11/site-packages (from ipython>=7.23.1->ipykernel) (4.8.0)\n",
      "Requirement already satisfied: python-dateutil>=2.8.2 in /p/software/jurecadc/stages/2024/software/Python-bundle-PyPI/2023.06-GCCcore-12.3.0/lib/python3.11/site-packages (from jupyter-client>=6.1.12->ipykernel) (2.8.2)\n",
      "Requirement already satisfied: platformdirs>=2.5 in /p/software/jurecadc/stages/2024/software/Python-bundle-PyPI/2023.06-GCCcore-12.3.0/lib/python3.11/site-packages (from jupyter-core!=5.0.*,>=4.12->ipykernel) (3.8.0)\n",
      "Collecting parso<0.9.0,>=0.8.4\n",
      "  Using cached parso-0.8.4-py2.py3-none-any.whl (103 kB)\n",
      "Requirement already satisfied: ptyprocess>=0.5 in /p/software/jurecadc/stages/2024/software/Python-bundle-PyPI/2023.06-GCCcore-12.3.0/lib/python3.11/site-packages (from pexpect>4.3->ipython>=7.23.1->ipykernel) (0.7.0)\n",
      "Requirement already satisfied: wcwidth in /p/software/jurecadc/stages/2024/software/Python-bundle-PyPI/2023.06-GCCcore-12.3.0/lib/python3.11/site-packages (from prompt-toolkit<3.1.0,>=3.0.41->ipython>=7.23.1->ipykernel) (0.2.6)\n",
      "Requirement already satisfied: six>=1.5 in /p/software/jurecadc/stages/2024/software/Python-bundle-PyPI/2023.06-GCCcore-12.3.0/lib/python3.11/site-packages (from python-dateutil>=2.8.2->jupyter-client>=6.1.12->ipykernel) (1.16.0)\n",
      "Collecting executing>=1.2.0\n",
      "  Using cached executing-2.1.0-py2.py3-none-any.whl (25 kB)\n",
      "Collecting asttokens>=2.1.0\n",
      "  Using cached asttokens-2.4.1-py2.py3-none-any.whl (27 kB)\n",
      "Collecting pure-eval\n",
      "  Using cached pure_eval-0.2.3-py3-none-any.whl (11 kB)\n",
      "Installing collected packages: pure-eval, traitlets, pyzmq, prompt-toolkit, parso, nest-asyncio, executing, debugpy, asttokens, stack-data, matplotlib-inline, jupyter-core, jedi, comm, jupyter-client, ipython, ipykernel\n",
      "Successfully installed asttokens-2.4.1 comm-0.2.2 debugpy-1.8.8 executing-2.1.0 ipykernel-6.29.5 ipython-8.29.0 jedi-0.19.2 jupyter-client-8.6.3 jupyter-core-5.7.2 matplotlib-inline-0.1.7 nest-asyncio-1.6.0 parso-0.8.4 prompt-toolkit-3.0.48 pure-eval-0.2.3 pyzmq-26.2.0 stack-data-0.6.3 traitlets-5.14.3\n",
      "\n",
      "\u001b[1m[\u001b[0m\u001b[34;49mnotice\u001b[0m\u001b[1;39;49m]\u001b[0m\u001b[39;49m A new release of pip available: \u001b[0m\u001b[31;49m22.3.1\u001b[0m\u001b[39;49m -> \u001b[0m\u001b[32;49m24.3.1\u001b[0m\n",
      "\u001b[1m[\u001b[0m\u001b[34;49mnotice\u001b[0m\u001b[1;39;49m]\u001b[0m\u001b[39;49m To update, run: \u001b[0m\u001b[32;49mpip install --upgrade pip\u001b[0m\n"
     ]
    }
   ],
   "source": [
    "pip install ipykernel"
   ]
  },
  {
   "cell_type": "code",
   "execution_count": 7,
   "id": "b33d9d86-6976-4542-8b66-b36d0f91bb08",
   "metadata": {},
   "outputs": [
    {
     "name": "stdout",
     "output_type": "stream",
     "text": [
      "Installed kernelspec hclimrep_hackathon in /p/project/training2445/shared/virtual_envs/venv_jrc/share/jupyter/kernels/hclimrep_hackathon\n"
     ]
    }
   ],
   "source": [
    "python -m ipykernel install --name=${KERNEL_NAME} --prefix ${VIRTUAL_ENV_SRC}\n",
    "export VIRTUAL_ENV_KERNELS=${VIRTUAL_ENV_SRC}/share/jupyter/kernels"
   ]
  },
  {
   "cell_type": "markdown",
   "id": "a937f34c-f5b7-4391-a5a7-2cc681ec70db",
   "metadata": {},
   "source": [
    "#### 2.2 - Adjust kernel.json file"
   ]
  },
  {
   "cell_type": "code",
   "execution_count": 8,
   "id": "a544530f-a67f-4824-b3ee-2da6c42c8420",
   "metadata": {},
   "outputs": [
    {
     "name": "stdout",
     "output_type": "stream",
     "text": [
      "{\n",
      "  \"argv\": [\n",
      "    \"/p/project/training2445/shared/jupyter/kernels/hclimrep_hackathon/kernel.sh\",\n",
      "    \"-m\",\n",
      "    \"ipykernel_launcher\",\n",
      "    \"-f\",\n",
      "    \"{connection_file}\"\n",
      "  ],\n",
      "  \"display_name\": \"hclimrep_hackathon\",\n",
      "  \"language\": \"python\",\n",
      "  \"metadata\": {\n",
      "   \"debugger\": true\n",
      "  }\n",
      "}\n"
     ]
    }
   ],
   "source": [
    "mv ${VIRTUAL_ENV_KERNELS}/${KERNEL_NAME}/kernel.json ${VIRTUAL_ENV_KERNELS}/${KERNEL_NAME}/kernel.json.orig\n",
    "\n",
    "echo '{\n",
    "  \"argv\": [\n",
    "    \"'${KERNEL_VENVS_DIR}/${KERNEL_NAME}/kernel.sh'\",\n",
    "    \"-m\",\n",
    "    \"ipykernel_launcher\",\n",
    "    \"-f\",\n",
    "    \"{connection_file}\"\n",
    "  ],\n",
    "  \"display_name\": \"'${KERNEL_NAME}'\",\n",
    "  \"language\": \"python\",\n",
    "  \"metadata\": {\n",
    "   \"debugger\": true\n",
    "  }\n",
    "}' > ${VIRTUAL_ENV_KERNELS}/${KERNEL_NAME}/kernel.json\n",
    "\n",
    "cat ${VIRTUAL_ENV_KERNELS}/${KERNEL_NAME}/kernel.json # double check"
   ]
  },
  {
   "cell_type": "markdown",
   "id": "c39ceb25-5f7f-402d-a8da-9e4b81a83fa4",
   "metadata": {},
   "source": [
    "#### 2.3 - Create link to kernel specs"
   ]
  },
  {
   "cell_type": "code",
   "execution_count": null,
   "id": "9d153958-9005-4cfe-b5f9-8b6f3ed864c6",
   "metadata": {},
   "outputs": [],
   "source": [
    "mkdir -p ${KERNEL_SPECS_DIR}\n",
    "cd ${KERNEL_SPECS_DIR}\n",
    "ln -s ${VIRTUAL_ENV_KERNELS}/${KERNEL_NAME} .\n",
    "\n",
    "echo -e \"\\n\\nThe new kernel '${KERNEL_NAME}' was added to your kernels in '${KERNEL_SPECS_DIR}/'\\n\"\n",
    "ls ${KERNEL_SPECS_DIR} # double check"
   ]
  },
  {
   "cell_type": "markdown",
   "id": "3ec757e1-6540-49c8-ba55-8c777fc01753",
   "metadata": {},
   "source": [
    "#### 3.4 - Use the kernel\n",
    "- You can select the new kernel in the top right corner of your notebook or from JupyterLab's Launchpad\n",
    "- The kernel icon will be added to your launcher, after a while by JupyterLab automatically or once you've restarted the JupyterLab\n",
    "\n",
    "---\n",
    "## 4. Cleanup"
   ]
  },
  {
   "cell_type": "code",
   "execution_count": null,
   "id": "d15cbec9-d78e-4f36-be5e-011d2c5df76e",
   "metadata": {},
   "outputs": [],
   "source": [
    "deactivate"
   ]
  },
  {
   "cell_type": "code",
   "execution_count": null,
   "id": "5503aee1-03ab-41b0-a9b4-60661af5be07",
   "metadata": {},
   "outputs": [],
   "source": []
  }
 ],
 "metadata": {
  "kernelspec": {
   "display_name": "Bash",
   "language": "bash",
   "name": "bash"
  },
  "language_info": {
   "codemirror_mode": "shell",
   "file_extension": ".sh",
   "mimetype": "text/x-sh",
   "name": "bash"
  }
 },
 "nbformat": 4,
 "nbformat_minor": 5
}
