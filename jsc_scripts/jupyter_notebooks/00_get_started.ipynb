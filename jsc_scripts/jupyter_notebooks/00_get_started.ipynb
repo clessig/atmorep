{
 "cells": [
  {
   "cell_type": "markdown",
   "id": "877e53b4",
   "metadata": {},
   "source": [
    "<h5 style=\"text-align: right\">Author: <a href=\"mailto:m.langguth@fz-juelich.de?subject=Jupyter-JSC%20documentation\">Michael Langguth</a></h5>  \n",
    "<h1 style=\"text-align: center\">Getting Started</h1> "
   ]
  },
  {
   "cell_type": "markdown",
   "id": "be81b8a1",
   "metadata": {},
   "source": [
    "## Get Access to JURECA\n",
    "Running Atmorep requires HPC computing resources, to access them:\n",
    "\n",
    "- make a judoor account at https://judoor.fz-juelich.de/\n",
    "- apply for the project `training2445` used for the HClimrep Hackathon\n",
    "- apply for the data project `atmo-rep` (might take some time to get confirmed)\n",
    "- once you have been granted access either:\n",
    "    - login via https://jupyter.jsc.fz-juelich.de/ (suggested)\n",
    "    - upload a public key and log in via ssh at \\<username\\>@jureca.fz-juelich.de"
   ]
  },
  {
   "cell_type": "markdown",
   "id": "7310dfbe",
   "metadata": {},
   "source": [
    "## Get the Code\n",
    "\n"
   ]
  },
  {
   "cell_type": "markdown",
   "id": "29abe649",
   "metadata": {},
   "source": [
    "Atmorep code can be accessed via GitHub at https://github.com/clessig/atmorep.git, as a starting point the `HClimrep_hackathon_2024` branch should be used. For easy access we will link the files In the project directory to your home directory as well."
   ]
  },
  {
   "cell_type": "code",
   "execution_count": null,
   "id": "b98d9eaa",
   "metadata": {},
   "outputs": [],
   "source": [
    "cd /p/project/training2445\n",
    "mkdir $USER\n",
    "cd $USER\n",
    "git clone https://github.com/clessig/atmorep.git\n",
    "git checkout -t origin/HClimrep_hackathon_2024\n",
    "ln -s /p/project/training2445/$USER/atmorep $HOME/."
   ]
  },
  {
   "cell_type": "markdown",
   "id": "b704dfc8",
   "metadata": {},
   "source": [
    "## Setup Virtual Environment\n",
    "To ease running AtmoRep and to avoid user-specific, mostly duplicated virtual environments during the hackathon, we have created a shared virtual virtual environment. \n",
    "\n",
    "This virtual environment is located under `/p/project/training2445/shared/virtual_envs/venv_jrc` and will be used throughout the hackathon. To use it simply link it into the `jsc_scripts/virtual_envs` directory of the atmorep repository you just cloned."
   ]
  },
  {
   "cell_type": "code",
   "execution_count": null,
   "id": "9643209d",
   "metadata": {},
   "outputs": [],
   "source": [
    "cd atmorep\n",
    "mkdir jsc_scripts/virtual_envs\n",
    "ln -s /p/project/training2445/shared/virtual_envs/venv_jrc jsc_scripts/virtual_envs/."
   ]
  },
  {
   "cell_type": "markdown",
   "id": "a21e777e",
   "metadata": {},
   "source": [
    "## Setup Jupyter Kernel"
   ]
  },
  {
   "cell_type": "markdown",
   "id": "f03051bf",
   "metadata": {},
   "source": [
    "Since some parts of the training are conducted with interactive Jupyter Notebooks, we have furthermore prepared a Jupyter kernel for you. \n",
    "In the following, we will make this kernel available for you which involves linking the kernel-directory to your HOME. "
   ]
  },
  {
   "cell_type": "markdown",
   "id": "892a0b11",
   "metadata": {},
   "source": [
    "#### Set the local kernel name \n",
    "The local kernel name defines how the kernel will appear in your Jupyter Notebooks.\n",
    "You can adapt it if you like."
   ]
  },
  {
   "cell_type": "code",
   "execution_count": null,
   "id": "e1be008f-4420-4bef-b187-31542788a8b6",
   "metadata": {},
   "outputs": [],
   "source": [
    "KERNEL_NAME=hclimrep_hackathon\n",
    "\n",
    "export KERNEL_NAME=$(echo \"${KERNEL_NAME}\" | awk '{print tolower($0)}')\n",
    "echo ${KERNEL_NAME} # double check"
   ]
  },
  {
   "cell_type": "markdown",
   "id": "e7373a4c-88d2-4d51-ba69-1845d2457080",
   "metadata": {},
   "source": [
    "The only requirement is that the name is unique, i.e. you cannot have another kernel with the same name. <br>\n",
    "This is checked in the cell below:"
   ]
  },
  {
   "cell_type": "code",
   "execution_count": null,
   "id": "079d23ae-3604-42b8-bae1-d803178b283d",
   "metadata": {},
   "outputs": [],
   "source": [
    "# define KERNEL_SPECS_DIR\n",
    "export KERNEL_SPECS_PREFIX=${HOME}/.local\n",
    "if [ ! -d \"$KERNEL_SPECS_PREFIX\" ]; then\n",
    "  echo \"ERROR: please create directory $KERNEL_SPECS_PREFIX\"\n",
    "fi\n",
    "export KERNEL_SPECS_DIR=${KERNEL_SPECS_PREFIX}/share/jupyter/kernels\n",
    "\n",
    "# check if kernel name is unique\n",
    "if [ -d \"${KERNEL_SPECS_DIR}/${KERNEL_NAME}\" ]; then\n",
    "  echo \"ERROR: Kernel already exists in ${KERNEL_SPECS_DIR}/${KERNEL_NAME}\"\n",
    "  echo \"       Rename kernel name or remove directory.\"\n",
    "fi\n",
    "\n",
    "# print the location of the new kernel\n",
    "echo ${KERNEL_SPECS_DIR}/${KERNEL_NAME} "
   ]
  },
  {
   "cell_type": "markdown",
   "id": "1f4716f9-2f76-41dc-9fc7-4063d4e268ff",
   "metadata": {},
   "source": [
    "#### Link to the provided kernel spec\n",
    "Finally, we create a link to the provided kernel spec:"
   ]
  },
  {
   "cell_type": "code",
   "execution_count": null,
   "id": "69c43dd8-f3e2-4fa5-aae5-64ef0665eb27",
   "metadata": {},
   "outputs": [],
   "source": [
    "export VIRTUAL_ENV_KERNEL_SHARED=/p/project/training2445/shared/virtual_envs/venv_jrc/share/jupyter/kernels/hclimrep_hackathon\n",
    "\n",
    "mkdir -p ${KERNEL_SPECS_DIR}\n",
    "cd ${KERNEL_SPECS_DIR}\n",
    "\n",
    "ln -s ${VIRTUAL_ENV_KERNEL_SHARED} ./${KERNEL_NAME}\n",
    "\n",
    "echo -e \"\\n\\nThe new kernel '${KERNEL_NAME}' was added to your kernels in '${KERNEL_SPECS_DIR}/'\\n\"\n",
    "ls ${KERNEL_SPECS_DIR} # double check"
   ]
  },
  {
   "cell_type": "markdown",
   "id": "dd58e019-324f-4f9b-8169-2eea53652e23",
   "metadata": {},
   "source": [
    "Afterwards, you should be able to select the kernel from your Jupyter Notebooks (this may take a few monents). <br>\n",
    "Note that the kernels are system-specific. Thus, the **provided kernel can only be used on JURECA**!"
   ]
  },
  {
   "cell_type": "markdown",
   "id": "d533deae-0a1b-426a-9f9c-a45555ccd79f",
   "metadata": {},
   "source": [
    "### Run a quick test"
   ]
  },
  {
   "cell_type": "code",
   "execution_count": null,
   "id": "d6406b5c-c4e4-4045-9265-ecf980c9d0b7",
   "metadata": {},
   "outputs": [],
   "source": [
    "cd $HOME/atmorep\n",
    "python run_atmorep.py evaluation"
   ]
  }
 ],
 "metadata": {
  "kernelspec": {
   "display_name": "Bash",
   "language": "bash",
   "name": "bash"
  },
  "language_info": {
   "codemirror_mode": "shell",
   "file_extension": ".sh",
   "mimetype": "text/x-sh",
   "name": "bash"
  }
 },
 "nbformat": 4,
 "nbformat_minor": 5
}
