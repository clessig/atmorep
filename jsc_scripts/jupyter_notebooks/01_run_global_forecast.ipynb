{
 "cells": [
  {
   "cell_type": "markdown",
   "id": "772a178b-63df-4de4-b293-7a5ed4cdac0f",
   "metadata": {},
   "source": [
    "# Tutorial 1 - Forecasting with AtmoRep\n",
    "\n",
    "## Preamble\n",
    "\n",
    "Training of AtmoRep is a computationally intensive process, typically requiring a couple of weeks on multiple compute nodes of Juwels Booster. \n",
    "However, a selection of pretrained AtmoRep models (singleformers and multiformers) has been made available, enabling immediate use in so called zero-shot applications. <br>\n",
    "Zero-shot applications leverage the intrinsic capabilities of the AtmoRep model and do not require task-specific finetuning or the addition of a specialized network to the core model.\n",
    "In particular, AtmoRep has demonstrated skill for short-range forecasting/nowcasting, temporal interpolation and data decompression. <br>\n",
    "In the following, we will explore the forecast application in a zero-shot setting.\n",
    "\n",
    "#### Objectives\n",
    "The objectives of this tutorial comprise\n",
    "- Generation of a six-hour forecast with AtmoRep in inference mode\n",
    "- Handling and plotting AtmoRep's model output\n",
    "- Evaluation AtmoRep's forecast capacities\n",
    "\n",
    "### Prerequisites\n",
    "To run the following cells of the Jupyter Notebook, please ensure that you fulfill the following requirements:\n",
    "- Run your JupyterLab on the GPU node of JURECA (use the `dc-gpu`-partition)\n",
    "- Activate your hackathon kernel (see upper right corner of your Jupyter Notebook)\n",
    "\n",
    "## Step 1 - Generate a forecast with AtmoRep\n",
    "\n",
    "### To-Do\n",
    "- [ ] get pretrained models \n",
    "- [ ] ensure that data is linked\n",
    "- [ ] parse user-config to enable user-specific output and model paths\n",
    "\n",
    "To generate a forecast, we must "
   ]
  },
  {
   "cell_type": "code",
   "execution_count": null,
   "id": "5a502c36-8bd1-44f2-ade9-b46c3805b41c",
   "metadata": {},
   "outputs": [],
   "source": [
    "from atmorep.core.evaluator import Evaluator\n",
    "import time"
   ]
  },
  {
   "cell_type": "code",
   "execution_count": null,
   "id": "c703f6e9-4a19-41c7-b9c9-ec2ff32100a2",
   "metadata": {},
   "outputs": [],
   "source": [
    "model_id='wc5e2i3t'\n",
    "\n",
    "mode, options = 'global_forecast', {\n",
    "                                  'dates' : [[2021, 2, 10, 12]],\n",
    "                                  #'dates' : [\n",
    "                                  #   [2021, 1, 10, 12] , [2021, 1, 11, 0], [2021, 1, 11, 12], [2021, 1, 12, 0], #[2021, 1, 12, 12], [2021, 1, 13, 0], \n",
    "                                  #   [2021, 4, 10, 12], [2021, 4, 11, 0], [2021, 4, 11, 12], [2021, 4, 12, 0], #[2021, 4, 12, 12], [2021, 4, 13, 0], \n",
    "                                  #   [2021, 7, 10, 12], [2021, 7, 11, 0], [2021, 7, 11, 12], [2021, 7, 12, 0], #[2021, 7, 12, 12], [2021, 7, 13, 0], \n",
    "                                  #   [2021, 10, 10, 12], [2021, 10, 11, 0], [2021, 10, 11, 12], #[2021, 10, 12, 0], [2021, 10, 12, 12], [2021, 10, 13, 0]\n",
    "                                  # ], \n",
    "                                  'token_overlap' : [0, 0],\n",
    "                                  'forecast_num_tokens' : 2,\n",
    "                                  'with_pytest' : False }\n"
   ]
  },
  {
   "cell_type": "code",
   "execution_count": null,
   "id": "be91d4dd-9ff5-4b86-b326-03f207be72df",
   "metadata": {},
   "outputs": [],
   "source": [
    "now = time.time()\n",
    "Evaluator.evaluate( mode, model_id, options)\n",
    "print(\"time\", time.time() - now)\n"
   ]
  },
  {
   "cell_type": "code",
   "execution_count": null,
   "id": "3abe11aa-3d6c-4148-a894-b31a8320f01f",
   "metadata": {},
   "outputs": [],
   "source": []
  }
 ],
 "metadata": {
  "kernelspec": {
   "display_name": "hclimrep_hackathon",
   "language": "python",
   "name": "hclimrep_hackathon"
  },
  "language_info": {
   "codemirror_mode": {
    "name": "ipython",
    "version": 3
   },
   "file_extension": ".py",
   "mimetype": "text/x-python",
   "name": "python",
   "nbconvert_exporter": "python",
   "pygments_lexer": "ipython3",
   "version": "3.11.3"
  }
 },
 "nbformat": 4,
 "nbformat_minor": 5
}
